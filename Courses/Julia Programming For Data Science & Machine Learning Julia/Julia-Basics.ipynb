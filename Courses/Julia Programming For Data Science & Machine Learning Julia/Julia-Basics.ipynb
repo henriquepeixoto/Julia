{
 "cells": [
  {
   "cell_type": "markdown",
   "metadata": {},
   "source": [
    "## Numbers, Variable & Comment"
   ]
  },
  {
   "cell_type": "code",
   "execution_count": 1,
   "metadata": {},
   "outputs": [
    {
     "data": {
      "text/plain": [
       "42"
      ]
     },
     "execution_count": 1,
     "metadata": {},
     "output_type": "execute_result"
    }
   ],
   "source": [
    "42"
   ]
  },
  {
   "cell_type": "code",
   "execution_count": 2,
   "metadata": {},
   "outputs": [
    {
     "data": {
      "text/plain": [
       "4.4"
      ]
     },
     "execution_count": 2,
     "metadata": {},
     "output_type": "execute_result"
    }
   ],
   "source": [
    "4.4"
   ]
  },
  {
   "cell_type": "code",
   "execution_count": 3,
   "metadata": {},
   "outputs": [
    {
     "data": {
      "text/plain": [
       "Int64"
      ]
     },
     "execution_count": 3,
     "metadata": {},
     "output_type": "execute_result"
    }
   ],
   "source": [
    "typeof(42)"
   ]
  },
  {
   "cell_type": "code",
   "execution_count": 4,
   "metadata": {},
   "outputs": [
    {
     "data": {
      "text/plain": [
       "Float64"
      ]
     },
     "execution_count": 4,
     "metadata": {},
     "output_type": "execute_result"
    }
   ],
   "source": [
    "typeof(4.4)"
   ]
  },
  {
   "cell_type": "code",
   "execution_count": 5,
   "metadata": {},
   "outputs": [
    {
     "data": {
      "text/plain": [
       "45"
      ]
     },
     "execution_count": 5,
     "metadata": {},
     "output_type": "execute_result"
    }
   ],
   "source": [
    "3 + 6 * 7"
   ]
  },
  {
   "cell_type": "code",
   "execution_count": 6,
   "metadata": {},
   "outputs": [
    {
     "data": {
      "text/plain": [
       "0.05357142857142857"
      ]
     },
     "execution_count": 6,
     "metadata": {},
     "output_type": "execute_result"
    }
   ],
   "source": [
    "3/56"
   ]
  },
  {
   "cell_type": "code",
   "execution_count": 7,
   "metadata": {},
   "outputs": [
    {
     "data": {
      "text/plain": [
       "34"
      ]
     },
     "execution_count": 7,
     "metadata": {},
     "output_type": "execute_result"
    }
   ],
   "source": [
    "grade = 34"
   ]
  },
  {
   "cell_type": "code",
   "execution_count": 8,
   "metadata": {},
   "outputs": [
    {
     "data": {
      "text/plain": [
       "34"
      ]
     },
     "execution_count": 8,
     "metadata": {},
     "output_type": "execute_result"
    }
   ],
   "source": [
    "grade"
   ]
  },
  {
   "cell_type": "code",
   "execution_count": 9,
   "metadata": {},
   "outputs": [
    {
     "name": "stdout",
     "output_type": "stream",
     "text": [
      "34\n"
     ]
    }
   ],
   "source": [
    "println(grade)"
   ]
  },
  {
   "cell_type": "code",
   "execution_count": 10,
   "metadata": {},
   "outputs": [
    {
     "data": {
      "text/plain": [
       "4"
      ]
     },
     "execution_count": 10,
     "metadata": {},
     "output_type": "execute_result"
    }
   ],
   "source": [
    "rank = 4"
   ]
  },
  {
   "cell_type": "code",
   "execution_count": 11,
   "metadata": {},
   "outputs": [
    {
     "data": {
      "text/plain": [
       "38"
      ]
     },
     "execution_count": 11,
     "metadata": {},
     "output_type": "execute_result"
    }
   ],
   "source": [
    "grade + rank"
   ]
  },
  {
   "cell_type": "code",
   "execution_count": 12,
   "metadata": {},
   "outputs": [
    {
     "data": {
      "text/plain": [
       "Int64"
      ]
     },
     "execution_count": 12,
     "metadata": {},
     "output_type": "execute_result"
    }
   ],
   "source": [
    "typeof(rank)"
   ]
  },
  {
   "cell_type": "code",
   "execution_count": 13,
   "metadata": {},
   "outputs": [
    {
     "data": {
      "text/plain": [
       "π = 3.1415926535897..."
      ]
     },
     "execution_count": 13,
     "metadata": {},
     "output_type": "execute_result"
    }
   ],
   "source": [
    "pi"
   ]
  },
  {
   "cell_type": "code",
   "execution_count": 14,
   "metadata": {},
   "outputs": [
    {
     "data": {
      "text/plain": [
       "1"
      ]
     },
     "execution_count": 14,
     "metadata": {},
     "output_type": "execute_result"
    }
   ],
   "source": [
    "100 % 3"
   ]
  },
  {
   "cell_type": "code",
   "execution_count": 15,
   "metadata": {},
   "outputs": [
    {
     "data": {
      "text/plain": [
       "8"
      ]
     },
     "execution_count": 15,
     "metadata": {},
     "output_type": "execute_result"
    }
   ],
   "source": [
    "2 ^ 3"
   ]
  },
  {
   "cell_type": "code",
   "execution_count": 16,
   "metadata": {},
   "outputs": [
    {
     "data": {
      "text/plain": [
       "94143178827"
      ]
     },
     "execution_count": 16,
     "metadata": {},
     "output_type": "execute_result"
    }
   ],
   "source": [
    "3 ^ 23"
   ]
  },
  {
   "cell_type": "code",
   "execution_count": 17,
   "metadata": {},
   "outputs": [],
   "source": [
    "# This is comment"
   ]
  },
  {
   "cell_type": "code",
   "execution_count": 18,
   "metadata": {},
   "outputs": [],
   "source": [
    "#=  1st\n",
    "2nd\n",
    "Third\n",
    "=#"
   ]
  },
  {
   "cell_type": "markdown",
   "metadata": {},
   "source": [
    "## String"
   ]
  },
  {
   "cell_type": "code",
   "execution_count": 20,
   "metadata": {},
   "outputs": [
    {
     "data": {
      "text/plain": [
       "\"This is Julia\""
      ]
     },
     "execution_count": 20,
     "metadata": {},
     "output_type": "execute_result"
    }
   ],
   "source": [
    "s1 = \"This is Julia\""
   ]
  },
  {
   "cell_type": "code",
   "execution_count": 21,
   "metadata": {},
   "outputs": [
    {
     "data": {
      "text/plain": [
       "String"
      ]
     },
     "execution_count": 21,
     "metadata": {},
     "output_type": "execute_result"
    }
   ],
   "source": [
    "typeof(s1)"
   ]
  },
  {
   "cell_type": "code",
   "execution_count": 22,
   "metadata": {},
   "outputs": [
    {
     "data": {
      "text/plain": [
       "\" This is 1st line\\nThis is 2nd\\nThis is 3rd\""
      ]
     },
     "execution_count": 22,
     "metadata": {},
     "output_type": "execute_result"
    }
   ],
   "source": [
    "s2 = \"\"\" This is 1st line\n",
    "This is 2nd\n",
    "This is 3rd\"\"\""
   ]
  },
  {
   "cell_type": "code",
   "execution_count": 23,
   "metadata": {},
   "outputs": [
    {
     "name": "stdout",
     "output_type": "stream",
     "text": [
      " This is 1st line\n",
      "This is 2nd\n",
      "This is 3rd\n"
     ]
    }
   ],
   "source": [
    "println(s2)"
   ]
  },
  {
   "cell_type": "code",
   "execution_count": 24,
   "metadata": {},
   "outputs": [
    {
     "ename": "LoadError",
     "evalue": "syntax: cannot juxtapose string literal",
     "output_type": "error",
     "traceback": [
      "syntax: cannot juxtapose string literal",
      ""
     ]
    }
   ],
   "source": [
    "It \"is\" raining outside\""
   ]
  },
  {
   "cell_type": "code",
   "execution_count": 25,
   "metadata": {},
   "outputs": [
    {
     "data": {
      "text/plain": [
       "\"It \\\"is\\\" raining outside\\\" \""
      ]
     },
     "execution_count": 25,
     "metadata": {},
     "output_type": "execute_result"
    }
   ],
   "source": [
    "s3 = \"\"\"It \"is\" raining outside\" \"\"\""
   ]
  },
  {
   "cell_type": "code",
   "execution_count": 26,
   "metadata": {},
   "outputs": [
    {
     "name": "stdout",
     "output_type": "stream",
     "text": [
      "It \"is\" raining outside\" \n"
     ]
    }
   ],
   "source": [
    "println(s3)"
   ]
  },
  {
   "cell_type": "code",
   "execution_count": 27,
   "metadata": {},
   "outputs": [
    {
     "name": "stdout",
     "output_type": "stream",
     "text": [
      "My grade is 12\n"
     ]
    }
   ],
   "source": [
    "println(\"My grade is 12\")"
   ]
  },
  {
   "cell_type": "code",
   "execution_count": 28,
   "metadata": {},
   "outputs": [
    {
     "data": {
      "text/plain": [
       "34"
      ]
     },
     "execution_count": 28,
     "metadata": {},
     "output_type": "execute_result"
    }
   ],
   "source": [
    "grade"
   ]
  },
  {
   "cell_type": "code",
   "execution_count": 29,
   "metadata": {},
   "outputs": [
    {
     "name": "stdout",
     "output_type": "stream",
     "text": [
      "My grade is 34\n"
     ]
    }
   ],
   "source": [
    "println(\"My grade is $grade\")"
   ]
  },
  {
   "cell_type": "code",
   "execution_count": 30,
   "metadata": {},
   "outputs": [
    {
     "name": "stdout",
     "output_type": "stream",
     "text": [
      "My grade is 39\n"
     ]
    }
   ],
   "source": [
    "println(\"My grade is $(grade+5)\")"
   ]
  },
  {
   "cell_type": "code",
   "execution_count": 34,
   "metadata": {},
   "outputs": [],
   "source": [
    "m1 = \"I love \"\n",
    "m2 = \"Julia\";"
   ]
  },
  {
   "cell_type": "code",
   "execution_count": 35,
   "metadata": {},
   "outputs": [
    {
     "data": {
      "text/plain": [
       "\"I love Julia\""
      ]
     },
     "execution_count": 35,
     "metadata": {},
     "output_type": "execute_result"
    }
   ],
   "source": [
    "string(m1, m2)"
   ]
  },
  {
   "cell_type": "code",
   "execution_count": 36,
   "metadata": {},
   "outputs": [
    {
     "data": {
      "text/plain": [
       "\"I love  Classic Julia\""
      ]
     },
     "execution_count": 36,
     "metadata": {},
     "output_type": "execute_result"
    }
   ],
   "source": [
    "string(m1, \" Classic \" ,m2)"
   ]
  },
  {
   "cell_type": "code",
   "execution_count": 38,
   "metadata": {},
   "outputs": [
    {
     "data": {
      "text/plain": [
       "\"Julia \""
      ]
     },
     "execution_count": 38,
     "metadata": {},
     "output_type": "execute_result"
    }
   ],
   "source": [
    "m2 =\"Julia \""
   ]
  },
  {
   "cell_type": "code",
   "execution_count": 39,
   "metadata": {},
   "outputs": [
    {
     "data": {
      "text/plain": [
       "\"Julia Julia Julia Julia Julia Julia Julia Julia Julia Julia Julia Julia Julia Julia Julia Julia Julia Julia Julia Julia Julia Julia Julia Julia Julia Julia Julia Julia Julia Julia Julia Julia Julia Julia Julia Julia Julia Julia Julia Julia Julia Julia Julia Julia Julia Julia Julia Julia Julia Julia Julia Julia Julia Julia Julia Julia Julia Julia Julia Julia Julia Julia Julia Julia Julia Julia Julia Julia Julia Julia Julia Julia Julia Julia Julia Julia Julia Julia Julia Julia Julia Julia Julia Julia Julia Julia Julia Julia Julia Julia Julia Julia Julia Julia Julia Julia Julia Julia Julia Julia \""
      ]
     },
     "execution_count": 39,
     "metadata": {},
     "output_type": "execute_result"
    }
   ],
   "source": [
    "m2 ^ 100"
   ]
  },
  {
   "cell_type": "code",
   "execution_count": 40,
   "metadata": {},
   "outputs": [
    {
     "data": {
      "text/plain": [
       "\"Ankit Ankit Ankit Ankit Ankit Ankit Ankit Ankit Ankit Ankit Ankit Ankit Ankit Ankit Ankit Ankit Ankit Ankit Ankit Ankit Ankit Ankit Ankit Ankit Ankit Ankit Ankit Ankit Ankit Ankit Ankit Ankit Ankit Ankit Ankit Ankit Ankit Ankit Ankit Ankit Ankit Ankit Ankit Ankit Ankit Ankit Ankit Ankit Ankit Ankit Ankit Ankit Ankit Ankit Ankit Ankit Ankit Ankit Ankit Ankit Ankit Ankit Ankit Ankit Ankit Ankit Ankit Ankit Ankit Ankit Ankit Ankit Ankit Ankit Ankit Ankit Ankit Ankit Ankit Ankit Ankit Ankit Ankit Ankit Ankit Ankit Ankit Ankit Ankit Ankit Ankit Ankit Ankit Ankit Ankit Ankit Ankit Ankit Ankit Ankit \""
      ]
     },
     "execution_count": 40,
     "metadata": {},
     "output_type": "execute_result"
    }
   ],
   "source": [
    "\"Ankit \" ^ 100"
   ]
  },
  {
   "cell_type": "code",
   "execution_count": 41,
   "metadata": {},
   "outputs": [
    {
     "data": {
      "text/plain": [
       "\"I love \""
      ]
     },
     "execution_count": 41,
     "metadata": {},
     "output_type": "execute_result"
    }
   ],
   "source": [
    "m1"
   ]
  },
  {
   "cell_type": "code",
   "execution_count": 42,
   "metadata": {},
   "outputs": [
    {
     "data": {
      "text/plain": [
       "'I': ASCII/Unicode U+0049 (category Lu: Letter, uppercase)"
      ]
     },
     "execution_count": 42,
     "metadata": {},
     "output_type": "execute_result"
    }
   ],
   "source": [
    "m1[1]"
   ]
  },
  {
   "cell_type": "code",
   "execution_count": 43,
   "metadata": {},
   "outputs": [
    {
     "data": {
      "text/plain": [
       "'l': ASCII/Unicode U+006c (category Ll: Letter, lowercase)"
      ]
     },
     "execution_count": 43,
     "metadata": {},
     "output_type": "execute_result"
    }
   ],
   "source": [
    "m1[3]"
   ]
  },
  {
   "cell_type": "code",
   "execution_count": null,
   "metadata": {},
   "outputs": [],
   "source": [
    "m1[start index: end index]"
   ]
  },
  {
   "cell_type": "code",
   "execution_count": 44,
   "metadata": {},
   "outputs": [
    {
     "data": {
      "text/plain": [
       "\"love\""
      ]
     },
     "execution_count": 44,
     "metadata": {},
     "output_type": "execute_result"
    }
   ],
   "source": [
    "m1[3:6]"
   ]
  },
  {
   "cell_type": "code",
   "execution_count": 45,
   "metadata": {},
   "outputs": [
    {
     "data": {
      "text/plain": [
       "'m': ASCII/Unicode U+006d (category Ll: Letter, lowercase)"
      ]
     },
     "execution_count": 45,
     "metadata": {},
     "output_type": "execute_result"
    }
   ],
   "source": [
    "ch = 'm'"
   ]
  },
  {
   "cell_type": "code",
   "execution_count": 46,
   "metadata": {},
   "outputs": [
    {
     "data": {
      "text/plain": [
       "Char"
      ]
     },
     "execution_count": 46,
     "metadata": {},
     "output_type": "execute_result"
    }
   ],
   "source": [
    "typeof(ch)"
   ]
  },
  {
   "cell_type": "code",
   "execution_count": 47,
   "metadata": {},
   "outputs": [
    {
     "ename": "LoadError",
     "evalue": "syntax: invalid character literal",
     "output_type": "error",
     "traceback": [
      "syntax: invalid character literal",
      ""
     ]
    }
   ],
   "source": [
    "'md'"
   ]
  },
  {
   "cell_type": "markdown",
   "metadata": {},
   "source": [
    "## Arrays"
   ]
  },
  {
   "cell_type": "code",
   "execution_count": 48,
   "metadata": {},
   "outputs": [
    {
     "data": {
      "text/plain": [
       "3-element Array{Int64,1}:\n",
       " 3\n",
       " 5\n",
       " 9"
      ]
     },
     "execution_count": 48,
     "metadata": {},
     "output_type": "execute_result"
    }
   ],
   "source": [
    "[3, 5, 9]"
   ]
  },
  {
   "cell_type": "code",
   "execution_count": 49,
   "metadata": {},
   "outputs": [
    {
     "data": {
      "text/plain": [
       "3-element Array{Int64,1}:\n",
       "  4\n",
       "  7\n",
       " 12"
      ]
     },
     "execution_count": 49,
     "metadata": {},
     "output_type": "execute_result"
    }
   ],
   "source": [
    "[3 , 5, 9] + [1, 2, 3]"
   ]
  },
  {
   "cell_type": "code",
   "execution_count": 51,
   "metadata": {},
   "outputs": [
    {
     "data": {
      "text/plain": [
       "4-element Array{Any,1}:\n",
       "     \"Hello\"\n",
       "    2       \n",
       "   45.7     \n",
       " true       "
      ]
     },
     "execution_count": 51,
     "metadata": {},
     "output_type": "execute_result"
    }
   ],
   "source": [
    "arr = [\"Hello\", 2, 45.7, true]"
   ]
  },
  {
   "cell_type": "code",
   "execution_count": 52,
   "metadata": {},
   "outputs": [
    {
     "data": {
      "text/plain": [
       "4"
      ]
     },
     "execution_count": 52,
     "metadata": {},
     "output_type": "execute_result"
    }
   ],
   "source": [
    "length(arr)"
   ]
  },
  {
   "cell_type": "code",
   "execution_count": 53,
   "metadata": {},
   "outputs": [
    {
     "data": {
      "text/plain": [
       "Array{Any,1}"
      ]
     },
     "execution_count": 53,
     "metadata": {},
     "output_type": "execute_result"
    }
   ],
   "source": [
    "typeof(arr)"
   ]
  },
  {
   "cell_type": "code",
   "execution_count": 55,
   "metadata": {},
   "outputs": [
    {
     "data": {
      "text/plain": [
       "9"
      ]
     },
     "execution_count": 55,
     "metadata": {},
     "output_type": "execute_result"
    }
   ],
   "source": [
    "minimum([3, 5, 9])\n",
    "maximum([3, 5, 9])"
   ]
  },
  {
   "cell_type": "code",
   "execution_count": 56,
   "metadata": {},
   "outputs": [
    {
     "data": {
      "text/plain": [
       "4-element Array{Any,1}:\n",
       "     \"Hello\"\n",
       "    2       \n",
       "   45.7     \n",
       " true       "
      ]
     },
     "execution_count": 56,
     "metadata": {},
     "output_type": "execute_result"
    }
   ],
   "source": [
    "arr"
   ]
  },
  {
   "cell_type": "code",
   "execution_count": 57,
   "metadata": {},
   "outputs": [
    {
     "data": {
      "text/plain": [
       "45.7"
      ]
     },
     "execution_count": 57,
     "metadata": {},
     "output_type": "execute_result"
    }
   ],
   "source": [
    "arr[3]"
   ]
  },
  {
   "cell_type": "code",
   "execution_count": 58,
   "metadata": {},
   "outputs": [
    {
     "data": {
      "text/plain": [
       "3-element Array{Any,1}:\n",
       "    2  \n",
       "   45.7\n",
       " true  "
      ]
     },
     "execution_count": 58,
     "metadata": {},
     "output_type": "execute_result"
    }
   ],
   "source": [
    "arr[2: 4]"
   ]
  },
  {
   "cell_type": "code",
   "execution_count": 59,
   "metadata": {},
   "outputs": [
    {
     "data": {
      "text/plain": [
       "1-element Array{Any,1}:\n",
       " true"
      ]
     },
     "execution_count": 59,
     "metadata": {},
     "output_type": "execute_result"
    }
   ],
   "source": [
    "arr[4:4]"
   ]
  },
  {
   "cell_type": "code",
   "execution_count": 61,
   "metadata": {},
   "outputs": [
    {
     "data": {
      "text/plain": [
       "3-element Array{Float64,1}:\n",
       " 1.0\n",
       " 1.0\n",
       " 1.0"
      ]
     },
     "execution_count": 61,
     "metadata": {},
     "output_type": "execute_result"
    }
   ],
   "source": [
    "zeros(4)\n",
    "ones(3)"
   ]
  },
  {
   "cell_type": "code",
   "execution_count": 62,
   "metadata": {},
   "outputs": [
    {
     "data": {
      "text/plain": [
       "4-element Array{Any,1}:\n",
       "     \"Hello\"\n",
       "    2       \n",
       "   45.7     \n",
       " true       "
      ]
     },
     "execution_count": 62,
     "metadata": {},
     "output_type": "execute_result"
    }
   ],
   "source": [
    "arr"
   ]
  },
  {
   "cell_type": "code",
   "execution_count": 63,
   "metadata": {},
   "outputs": [
    {
     "name": "stdout",
     "output_type": "stream",
     "text": [
      "Any[\"Hello\", 2, 45.7, true]\n"
     ]
    }
   ],
   "source": [
    "println(arr)"
   ]
  },
  {
   "cell_type": "code",
   "execution_count": 64,
   "metadata": {},
   "outputs": [
    {
     "data": {
      "text/plain": [
       "5-element Array{Any,1}:\n",
       "     \"Hello\"\n",
       "    2       \n",
       "   45.7     \n",
       " true       \n",
       "     \"34\"   "
      ]
     },
     "execution_count": 64,
     "metadata": {},
     "output_type": "execute_result"
    }
   ],
   "source": [
    "push!(arr, \"34\")"
   ]
  },
  {
   "cell_type": "code",
   "execution_count": 65,
   "metadata": {},
   "outputs": [
    {
     "name": "stdout",
     "output_type": "stream",
     "text": [
      "Any[\"Hello\", 2, 45.7, true, \"34\"]\n"
     ]
    }
   ],
   "source": [
    "println(arr)"
   ]
  },
  {
   "cell_type": "code",
   "execution_count": 67,
   "metadata": {},
   "outputs": [
    {
     "data": {
      "text/plain": [
       "3-element Array{Int64,1}:\n",
       " -1\n",
       "  3\n",
       "  5"
      ]
     },
     "execution_count": 67,
     "metadata": {},
     "output_type": "execute_result"
    }
   ],
   "source": [
    "sort([3, 5, -1])"
   ]
  },
  {
   "cell_type": "code",
   "execution_count": 70,
   "metadata": {},
   "outputs": [
    {
     "data": {
      "text/plain": [
       "-10:-1"
      ]
     },
     "execution_count": 70,
     "metadata": {},
     "output_type": "execute_result"
    }
   ],
   "source": [
    "range(1, stop=100)\n",
    "range(-10, step=5, length=10)\n",
    "range(-10, length=10)"
   ]
  },
  {
   "cell_type": "code",
   "execution_count": 71,
   "metadata": {},
   "outputs": [
    {
     "data": {
      "text/plain": [
       "5-element Array{Any,1}:\n",
       "     \"Hello\"\n",
       "    2       \n",
       "   45.7     \n",
       " true       \n",
       "     \"34\"   "
      ]
     },
     "execution_count": 71,
     "metadata": {},
     "output_type": "execute_result"
    }
   ],
   "source": [
    "arr"
   ]
  },
  {
   "cell_type": "code",
   "execution_count": 72,
   "metadata": {},
   "outputs": [
    {
     "data": {
      "text/plain": [
       "5-element Array{Any,1}:\n",
       "     \"Hello\"\n",
       "    2       \n",
       "   45.7     \n",
       " true       \n",
       "     \"34\"   "
      ]
     },
     "execution_count": 72,
     "metadata": {},
     "output_type": "execute_result"
    }
   ],
   "source": [
    "arr1 = arr"
   ]
  },
  {
   "cell_type": "code",
   "execution_count": 74,
   "metadata": {},
   "outputs": [
    {
     "data": {
      "text/plain": [
       "\"Bye\""
      ]
     },
     "execution_count": 74,
     "metadata": {},
     "output_type": "execute_result"
    }
   ],
   "source": [
    "arr1[1] = \"Bye\""
   ]
  },
  {
   "cell_type": "code",
   "execution_count": 76,
   "metadata": {},
   "outputs": [
    {
     "name": "stdout",
     "output_type": "stream",
     "text": [
      "Any[\"Bye\", 2, 45.7, true, \"34\"]Any[\"Bye\", 2, 45.7, true, \"34\"]\n"
     ]
    }
   ],
   "source": [
    "println(arr1 ,  arr)"
   ]
  },
  {
   "cell_type": "code",
   "execution_count": 77,
   "metadata": {},
   "outputs": [
    {
     "data": {
      "text/plain": [
       "5-element Array{Any,1}:\n",
       "     \"Bye\"\n",
       "    2     \n",
       "   45.7   \n",
       " true     \n",
       "     \"34\" "
      ]
     },
     "execution_count": 77,
     "metadata": {},
     "output_type": "execute_result"
    }
   ],
   "source": [
    "arr2 = copy(arr)"
   ]
  },
  {
   "cell_type": "code",
   "execution_count": 78,
   "metadata": {},
   "outputs": [
    {
     "name": "stdout",
     "output_type": "stream",
     "text": [
      "Any[\"Bye\", 2, 45.7, true, \"34\"]Any[\"Bye\", 2, 45.7, true, \"34\"]\n"
     ]
    }
   ],
   "source": [
    "println(arr ,  arr2)"
   ]
  },
  {
   "cell_type": "code",
   "execution_count": 79,
   "metadata": {},
   "outputs": [
    {
     "data": {
      "text/plain": [
       "\"Julia\""
      ]
     },
     "execution_count": 79,
     "metadata": {},
     "output_type": "execute_result"
    }
   ],
   "source": [
    "arr2[1] = \"Julia\""
   ]
  },
  {
   "cell_type": "code",
   "execution_count": 80,
   "metadata": {},
   "outputs": [
    {
     "name": "stdout",
     "output_type": "stream",
     "text": [
      "Any[\"Bye\", 2, 45.7, true, \"34\"]Any[\"Julia\", 2, 45.7, true, \"34\"]\n"
     ]
    }
   ],
   "source": [
    "println(arr ,  arr2)"
   ]
  },
  {
   "cell_type": "code",
   "execution_count": 81,
   "metadata": {},
   "outputs": [
    {
     "data": {
      "text/plain": [
       "5-element Array{Any,1}:\n",
       "     \"Bye\"\n",
       "    2     \n",
       "   45.7   \n",
       " true     \n",
       "     \"34\" "
      ]
     },
     "execution_count": 81,
     "metadata": {},
     "output_type": "execute_result"
    }
   ],
   "source": [
    "arr"
   ]
  },
  {
   "cell_type": "code",
   "execution_count": 83,
   "metadata": {},
   "outputs": [
    {
     "data": {
      "text/plain": [
       "false"
      ]
     },
     "execution_count": 83,
     "metadata": {},
     "output_type": "execute_result"
    }
   ],
   "source": [
    "in(\"2\", arr)"
   ]
  },
  {
   "cell_type": "markdown",
   "metadata": {},
   "source": [
    "## Tuples"
   ]
  },
  {
   "cell_type": "code",
   "execution_count": 85,
   "metadata": {},
   "outputs": [
    {
     "data": {
      "text/plain": [
       "(3, 6, true)"
      ]
     },
     "execution_count": 85,
     "metadata": {},
     "output_type": "execute_result"
    }
   ],
   "source": [
    "t1 = (3, 6, true)"
   ]
  },
  {
   "cell_type": "code",
   "execution_count": 86,
   "metadata": {},
   "outputs": [
    {
     "data": {
      "text/plain": [
       "Tuple{Int64,Int64,Bool}"
      ]
     },
     "execution_count": 86,
     "metadata": {},
     "output_type": "execute_result"
    }
   ],
   "source": [
    "typeof(t1)"
   ]
  },
  {
   "cell_type": "code",
   "execution_count": 87,
   "metadata": {},
   "outputs": [
    {
     "data": {
      "text/plain": [
       "6"
      ]
     },
     "execution_count": 87,
     "metadata": {},
     "output_type": "execute_result"
    }
   ],
   "source": [
    "t1[2]"
   ]
  },
  {
   "cell_type": "code",
   "execution_count": 88,
   "metadata": {},
   "outputs": [
    {
     "ename": "MethodError",
     "evalue": "MethodError: no method matching setindex!(::Tuple{Int64,Int64,Bool}, ::String, ::Int64)",
     "output_type": "error",
     "traceback": [
      "MethodError: no method matching setindex!(::Tuple{Int64,Int64,Bool}, ::String, ::Int64)",
      "",
      "Stacktrace:",
      " [1] top-level scope at In[88]:1"
     ]
    }
   ],
   "source": [
    "t1[2] = \"hello\""
   ]
  },
  {
   "cell_type": "code",
   "execution_count": 89,
   "metadata": {},
   "outputs": [
    {
     "data": {
      "text/plain": [
       "3"
      ]
     },
     "execution_count": 89,
     "metadata": {},
     "output_type": "execute_result"
    }
   ],
   "source": [
    "length(t1)"
   ]
  },
  {
   "cell_type": "code",
   "execution_count": null,
   "metadata": {},
   "outputs": [],
   "source": []
  },
  {
   "cell_type": "markdown",
   "metadata": {},
   "source": [
    "## Dictionary"
   ]
  },
  {
   "cell_type": "code",
   "execution_count": 14,
   "metadata": {},
   "outputs": [
    {
     "data": {
      "text/plain": [
       "Dict{String,String} with 3 entries:\n",
       "  \"John\"  => \"555\"\n",
       "  \"Alice\" => \"111\"\n",
       "  \"Bob\"   => \"333\""
      ]
     },
     "execution_count": 14,
     "metadata": {},
     "output_type": "execute_result"
    }
   ],
   "source": [
    "#=\n",
    "John - 555\n",
    "Alice - 111\n",
    "Bob = 333\n",
    "=#\n",
    "phonebook = Dict(\"John\" => \"555\", \"Alice\" => \"111\", \"Bob\" => \"333\")"
   ]
  },
  {
   "cell_type": "code",
   "execution_count": 15,
   "metadata": {},
   "outputs": [
    {
     "data": {
      "text/plain": [
       "Base.KeySet for a Dict{String,String} with 3 entries. Keys:\n",
       "  \"John\"\n",
       "  \"Alice\"\n",
       "  \"Bob\""
      ]
     },
     "execution_count": 15,
     "metadata": {},
     "output_type": "execute_result"
    }
   ],
   "source": [
    "keys(phonebook)"
   ]
  },
  {
   "cell_type": "code",
   "execution_count": 16,
   "metadata": {},
   "outputs": [
    {
     "data": {
      "text/plain": [
       "Base.ValueIterator for a Dict{String,String} with 3 entries. Values:\n",
       "  \"555\"\n",
       "  \"111\"\n",
       "  \"333\""
      ]
     },
     "execution_count": 16,
     "metadata": {},
     "output_type": "execute_result"
    }
   ],
   "source": [
    "values(phonebook)"
   ]
  },
  {
   "cell_type": "code",
   "execution_count": 17,
   "metadata": {},
   "outputs": [
    {
     "data": {
      "text/plain": [
       "\"555\""
      ]
     },
     "execution_count": 17,
     "metadata": {},
     "output_type": "execute_result"
    }
   ],
   "source": [
    "phonebook[\"John\"]"
   ]
  },
  {
   "cell_type": "code",
   "execution_count": 18,
   "metadata": {},
   "outputs": [
    {
     "name": "stdout",
     "output_type": "stream",
     "text": [
      "John , 555\n",
      "Alice , 111\n",
      "Bob , 333\n"
     ]
    }
   ],
   "source": [
    "for (k, v) in phonebook\n",
    "    println(\"$k , $v\")\n",
    "end"
   ]
  },
  {
   "cell_type": "code",
   "execution_count": 19,
   "metadata": {},
   "outputs": [
    {
     "data": {
      "text/plain": [
       "3-element Array{String,1}:\n",
       " \"John\" \n",
       " \"Alice\"\n",
       " \"Bob\"  "
      ]
     },
     "execution_count": 19,
     "metadata": {},
     "output_type": "execute_result"
    }
   ],
   "source": [
    "collect(keys(phonebook))"
   ]
  },
  {
   "cell_type": "code",
   "execution_count": 21,
   "metadata": {},
   "outputs": [
    {
     "data": {
      "text/plain": [
       "false"
      ]
     },
     "execution_count": 21,
     "metadata": {},
     "output_type": "execute_result"
    }
   ],
   "source": [
    "#haskey(phonebook, \"John\")\n",
    "haskey(phonebook, \"John1\")"
   ]
  },
  {
   "cell_type": "markdown",
   "metadata": {},
   "source": [
    "## Sets"
   ]
  },
  {
   "cell_type": "code",
   "execution_count": 24,
   "metadata": {},
   "outputs": [
    {
     "data": {
      "text/plain": [
       "Set([3, 6, 1])"
      ]
     },
     "execution_count": 24,
     "metadata": {},
     "output_type": "execute_result"
    }
   ],
   "source": [
    "s1 = Set([1,3,6, 6])"
   ]
  },
  {
   "cell_type": "code",
   "execution_count": 25,
   "metadata": {},
   "outputs": [
    {
     "data": {
      "text/plain": [
       "Set([4, 3, 6])"
      ]
     },
     "execution_count": 25,
     "metadata": {},
     "output_type": "execute_result"
    }
   ],
   "source": [
    "s2 = Set([3,6, 4, 3])"
   ]
  },
  {
   "cell_type": "code",
   "execution_count": 26,
   "metadata": {},
   "outputs": [
    {
     "data": {
      "text/plain": [
       "Set([4, 3, 6, 1])"
      ]
     },
     "execution_count": 26,
     "metadata": {},
     "output_type": "execute_result"
    }
   ],
   "source": [
    "union(s1, s2)"
   ]
  },
  {
   "cell_type": "code",
   "execution_count": 27,
   "metadata": {},
   "outputs": [
    {
     "data": {
      "text/plain": [
       "Set([3, 6])"
      ]
     },
     "execution_count": 27,
     "metadata": {},
     "output_type": "execute_result"
    }
   ],
   "source": [
    "intersect(s1, s2)"
   ]
  },
  {
   "cell_type": "code",
   "execution_count": 28,
   "metadata": {},
   "outputs": [
    {
     "data": {
      "text/plain": [
       "false"
      ]
     },
     "execution_count": 28,
     "metadata": {},
     "output_type": "execute_result"
    }
   ],
   "source": [
    "issubset(s1, s2)"
   ]
  },
  {
   "cell_type": "code",
   "execution_count": null,
   "metadata": {},
   "outputs": [],
   "source": []
  },
  {
   "cell_type": "markdown",
   "metadata": {},
   "source": [
    "# Control Flow"
   ]
  },
  {
   "cell_type": "markdown",
   "metadata": {},
   "source": [
    "## Decision making"
   ]
  },
  {
   "cell_type": "code",
   "execution_count": 29,
   "metadata": {},
   "outputs": [
    {
     "data": {
      "text/plain": [
       "34"
      ]
     },
     "execution_count": 29,
     "metadata": {},
     "output_type": "execute_result"
    }
   ],
   "source": [
    "N= 34"
   ]
  },
  {
   "cell_type": "code",
   "execution_count": 32,
   "metadata": {},
   "outputs": [
    {
     "name": "stdout",
     "output_type": "stream",
     "text": [
      "N is -ve\n"
     ]
    }
   ],
   "source": [
    "N = -5\n",
    "if N > 0\n",
    "    println(\"N is +ve\")\n",
    "else\n",
    "    println(\"N is -ve\")\n",
    "end"
   ]
  },
  {
   "cell_type": "code",
   "execution_count": 33,
   "metadata": {},
   "outputs": [
    {
     "data": {
      "text/plain": [
       "34"
      ]
     },
     "execution_count": 33,
     "metadata": {},
     "output_type": "execute_result"
    }
   ],
   "source": [
    "N = 34"
   ]
  },
  {
   "cell_type": "code",
   "execution_count": 37,
   "metadata": {},
   "outputs": [
    {
     "name": "stdout",
     "output_type": "stream",
     "text": [
      "Number is -ve\n"
     ]
    }
   ],
   "source": [
    "N = -5\n",
    "if N > 25\n",
    "    println(\"Number is greater than 25\")\n",
    "elseif (N > 0 && N < 25)\n",
    "    println(\"Number is between 0 and 25\")\n",
    "else\n",
    "    println(\"Number is -ve\")\n",
    "end"
   ]
  },
  {
   "cell_type": "markdown",
   "metadata": {},
   "source": [
    "## Looping"
   ]
  },
  {
   "cell_type": "code",
   "execution_count": 38,
   "metadata": {},
   "outputs": [
    {
     "name": "stdout",
     "output_type": "stream",
     "text": [
      "1\n",
      "2\n",
      "3\n",
      "4\n",
      "5\n"
     ]
    }
   ],
   "source": [
    "for i = 1:5\n",
    "    println(i)\n",
    "end"
   ]
  },
  {
   "cell_type": "code",
   "execution_count": 39,
   "metadata": {},
   "outputs": [
    {
     "name": "stdout",
     "output_type": "stream",
     "text": [
      "1 : 1\n",
      "1 : 2\n",
      "1 : 3\n",
      "1 : 4\n",
      "1 : 5\n",
      "2 : 1\n",
      "2 : 2\n",
      "2 : 3\n",
      "2 : 4\n",
      "2 : 5\n",
      "3 : 1\n",
      "3 : 2\n",
      "3 : 3\n",
      "3 : 4\n",
      "3 : 5\n",
      "4 : 1\n",
      "4 : 2\n",
      "4 : 3\n",
      "4 : 4\n",
      "4 : 5\n",
      "5 : 1\n",
      "5 : 2\n",
      "5 : 3\n",
      "5 : 4\n",
      "5 : 5\n"
     ]
    }
   ],
   "source": [
    "for i = 1:5, j = 1:5\n",
    "    println(i , \" : \", j)\n",
    "end"
   ]
  },
  {
   "cell_type": "code",
   "execution_count": 40,
   "metadata": {},
   "outputs": [
    {
     "data": {
      "text/plain": [
       "3-element Array{Any,1}:\n",
       " 3       \n",
       " 5       \n",
       "  \"Hello\""
      ]
     },
     "execution_count": 40,
     "metadata": {},
     "output_type": "execute_result"
    }
   ],
   "source": [
    "arr = [3, 5, \"Hello\"]"
   ]
  },
  {
   "cell_type": "code",
   "execution_count": 41,
   "metadata": {},
   "outputs": [
    {
     "name": "stdout",
     "output_type": "stream",
     "text": [
      "3\n",
      "5\n",
      "Hello\n"
     ]
    }
   ],
   "source": [
    "for val in arr\n",
    "    println(val)\n",
    "end"
   ]
  },
  {
   "cell_type": "code",
   "execution_count": null,
   "metadata": {},
   "outputs": [],
   "source": [
    "for i = 1:5\n",
    "    println(i)\n",
    "end"
   ]
  },
  {
   "cell_type": "code",
   "execution_count": 43,
   "metadata": {},
   "outputs": [
    {
     "name": "stdout",
     "output_type": "stream",
     "text": [
      "1\n",
      "2\n",
      "3\n",
      "4\n",
      "5\n"
     ]
    }
   ],
   "source": [
    "i = 1\n",
    "while i <= 5\n",
    "    println(i)\n",
    "    i = i + 1\n",
    "end"
   ]
  },
  {
   "cell_type": "markdown",
   "metadata": {},
   "source": [
    "## Functions"
   ]
  },
  {
   "cell_type": "code",
   "execution_count": 52,
   "metadata": {},
   "outputs": [
    {
     "data": {
      "text/plain": [
       "welcome (generic function with 1 method)"
      ]
     },
     "execution_count": 52,
     "metadata": {},
     "output_type": "execute_result"
    }
   ],
   "source": [
    "function welcome()\n",
    "    println(\"Hello Ankit\")\n",
    "end"
   ]
  },
  {
   "cell_type": "code",
   "execution_count": 53,
   "metadata": {},
   "outputs": [
    {
     "name": "stdout",
     "output_type": "stream",
     "text": [
      "Hello Ankit\n"
     ]
    }
   ],
   "source": [
    "welcome()"
   ]
  },
  {
   "cell_type": "code",
   "execution_count": 54,
   "metadata": {},
   "outputs": [
    {
     "data": {
      "text/plain": [
       "welcome1 (generic function with 1 method)"
      ]
     },
     "execution_count": 54,
     "metadata": {},
     "output_type": "execute_result"
    }
   ],
   "source": [
    "function welcome1(name)\n",
    "    println(\"Hello $name\")\n",
    "end"
   ]
  },
  {
   "cell_type": "code",
   "execution_count": 55,
   "metadata": {},
   "outputs": [
    {
     "ename": "MethodError",
     "evalue": "MethodError: no method matching welcome1()\nClosest candidates are:\n  welcome1(!Matched::Any) at In[54]:2",
     "output_type": "error",
     "traceback": [
      "MethodError: no method matching welcome1()\nClosest candidates are:\n  welcome1(!Matched::Any) at In[54]:2",
      "",
      "Stacktrace:",
      " [1] top-level scope at In[55]:1"
     ]
    }
   ],
   "source": [
    "welcome1()"
   ]
  },
  {
   "cell_type": "code",
   "execution_count": 58,
   "metadata": {},
   "outputs": [
    {
     "name": "stdout",
     "output_type": "stream",
     "text": [
      "Hello Julia\n"
     ]
    }
   ],
   "source": [
    "#welcome1(\"Ankit\")\n",
    "welcome1(\"Julia\")"
   ]
  },
  {
   "cell_type": "code",
   "execution_count": 59,
   "metadata": {},
   "outputs": [
    {
     "data": {
      "text/plain": [
       "welcome2 (generic function with 1 method)"
      ]
     },
     "execution_count": 59,
     "metadata": {},
     "output_type": "execute_result"
    }
   ],
   "source": [
    "welcome2(name) = println(\"Hello $name\")"
   ]
  },
  {
   "cell_type": "code",
   "execution_count": 60,
   "metadata": {},
   "outputs": [
    {
     "name": "stdout",
     "output_type": "stream",
     "text": [
      "Hello Julia\n"
     ]
    }
   ],
   "source": [
    "welcome2(\"Julia\")"
   ]
  },
  {
   "cell_type": "code",
   "execution_count": 61,
   "metadata": {},
   "outputs": [
    {
     "data": {
      "text/plain": [
       "#3 (generic function with 1 method)"
      ]
     },
     "execution_count": 61,
     "metadata": {},
     "output_type": "execute_result"
    }
   ],
   "source": [
    "welcome3 = name -> println(\"Hello $name\")"
   ]
  },
  {
   "cell_type": "code",
   "execution_count": 62,
   "metadata": {},
   "outputs": [
    {
     "name": "stdout",
     "output_type": "stream",
     "text": [
      "Hello data\n"
     ]
    }
   ],
   "source": [
    "welcome3(\"data\")"
   ]
  },
  {
   "cell_type": "code",
   "execution_count": 65,
   "metadata": {},
   "outputs": [
    {
     "data": {
      "text/plain": [
       "add (generic function with 1 method)"
      ]
     },
     "execution_count": 65,
     "metadata": {},
     "output_type": "execute_result"
    }
   ],
   "source": [
    "function add(x,y)\n",
    "    z = x + y\n",
    "    return z\n",
    "end"
   ]
  },
  {
   "cell_type": "code",
   "execution_count": 66,
   "metadata": {},
   "outputs": [
    {
     "data": {
      "text/plain": [
       "10"
      ]
     },
     "execution_count": 66,
     "metadata": {},
     "output_type": "execute_result"
    }
   ],
   "source": [
    "add(4,6)"
   ]
  },
  {
   "cell_type": "code",
   "execution_count": 67,
   "metadata": {},
   "outputs": [
    {
     "data": {
      "text/plain": [
       "5-element Array{Int64,1}:\n",
       "  2\n",
       "  3\n",
       "  6\n",
       "  0\n",
       " -4"
      ]
     },
     "execution_count": 67,
     "metadata": {},
     "output_type": "execute_result"
    }
   ],
   "source": [
    "arr =[ 2,3,6,0, -4]"
   ]
  },
  {
   "cell_type": "code",
   "execution_count": 68,
   "metadata": {},
   "outputs": [
    {
     "data": {
      "text/plain": [
       "5-element Array{Int64,1}:\n",
       " -4\n",
       "  0\n",
       "  2\n",
       "  3\n",
       "  6"
      ]
     },
     "execution_count": 68,
     "metadata": {},
     "output_type": "execute_result"
    }
   ],
   "source": [
    "sort(arr)"
   ]
  },
  {
   "cell_type": "code",
   "execution_count": 69,
   "metadata": {},
   "outputs": [
    {
     "data": {
      "text/plain": [
       "5-element Array{Int64,1}:\n",
       "  2\n",
       "  3\n",
       "  6\n",
       "  0\n",
       " -4"
      ]
     },
     "execution_count": 69,
     "metadata": {},
     "output_type": "execute_result"
    }
   ],
   "source": [
    "arr"
   ]
  },
  {
   "cell_type": "code",
   "execution_count": 70,
   "metadata": {},
   "outputs": [
    {
     "data": {
      "text/plain": [
       "5-element Array{Int64,1}:\n",
       " -4\n",
       "  0\n",
       "  2\n",
       "  3\n",
       "  6"
      ]
     },
     "execution_count": 70,
     "metadata": {},
     "output_type": "execute_result"
    }
   ],
   "source": [
    "sort!(arr)"
   ]
  },
  {
   "cell_type": "code",
   "execution_count": 71,
   "metadata": {},
   "outputs": [
    {
     "data": {
      "text/plain": [
       "5-element Array{Int64,1}:\n",
       " -4\n",
       "  0\n",
       "  2\n",
       "  3\n",
       "  6"
      ]
     },
     "execution_count": 71,
     "metadata": {},
     "output_type": "execute_result"
    }
   ],
   "source": [
    "arr"
   ]
  },
  {
   "cell_type": "code",
   "execution_count": 73,
   "metadata": {},
   "outputs": [
    {
     "data": {
      "text/plain": [
       "f1 (generic function with 1 method)"
      ]
     },
     "execution_count": 73,
     "metadata": {},
     "output_type": "execute_result"
    }
   ],
   "source": [
    "function f1(x)\n",
    "    x^2\n",
    "end"
   ]
  },
  {
   "cell_type": "code",
   "execution_count": 75,
   "metadata": {},
   "outputs": [
    {
     "data": {
      "text/plain": [
       "4-element Array{Int64,1}:\n",
       " 1\n",
       " 3\n",
       " 7\n",
       " 0"
      ]
     },
     "execution_count": 75,
     "metadata": {},
     "output_type": "execute_result"
    }
   ],
   "source": [
    "arr1 = [1,3,7,0]"
   ]
  },
  {
   "cell_type": "code",
   "execution_count": 76,
   "metadata": {
    "collapsed": true
   },
   "outputs": [
    {
     "ename": "MethodError",
     "evalue": "MethodError: no method matching ^(::Array{Int64,1}, ::Int64)\nClosest candidates are:\n  ^(!Matched::Float16, ::Integer) at math.jl:862\n  ^(!Matched::Regex, ::Integer) at regex.jl:712\n  ^(!Matched::Missing, ::Integer) at missing.jl:151\n  ...",
     "output_type": "error",
     "traceback": [
      "MethodError: no method matching ^(::Array{Int64,1}, ::Int64)\nClosest candidates are:\n  ^(!Matched::Float16, ::Integer) at math.jl:862\n  ^(!Matched::Regex, ::Integer) at regex.jl:712\n  ^(!Matched::Missing, ::Integer) at missing.jl:151\n  ...",
      "",
      "Stacktrace:",
      " [1] macro expansion at .\\none:0 [inlined]",
      " [2] literal_pow at .\\none:0 [inlined]",
      " [3] f1(::Array{Int64,1}) at .\\In[73]:2",
      " [4] top-level scope at In[76]:1"
     ]
    }
   ],
   "source": [
    "f1(arr1)"
   ]
  },
  {
   "cell_type": "code",
   "execution_count": 77,
   "metadata": {},
   "outputs": [
    {
     "data": {
      "text/plain": [
       "4-element Array{Int64,1}:\n",
       "  1\n",
       "  9\n",
       " 49\n",
       "  0"
      ]
     },
     "execution_count": 77,
     "metadata": {},
     "output_type": "execute_result"
    }
   ],
   "source": [
    "map(f1 , arr1)"
   ]
  },
  {
   "cell_type": "markdown",
   "metadata": {},
   "source": [
    "## Packages"
   ]
  },
  {
   "cell_type": "code",
   "execution_count": 44,
   "metadata": {},
   "outputs": [],
   "source": [
    "using Pkg"
   ]
  },
  {
   "cell_type": "code",
   "execution_count": 45,
   "metadata": {},
   "outputs": [
    {
     "data": {
      "text/plain": [
       "Dict{String,Union{Nothing, VersionNumber}} with 8 entries:\n",
       "  \"CSV\"           => v\"0.5.20\"\n",
       "  \"Dates\"         => nothing\n",
       "  \"Serialization\" => nothing\n",
       "  \"Statistics\"    => nothing\n",
       "  \"Tables\"        => v\"0.2.11\"\n",
       "  \"IJulia\"        => v\"1.20.2\"\n",
       "  \"JSONTables\"    => v\"0.1.3\"\n",
       "  \"DataFrames\"    => v\"0.20.0\""
      ]
     },
     "execution_count": 45,
     "metadata": {},
     "output_type": "execute_result"
    }
   ],
   "source": [
    "Pkg.installed()"
   ]
  },
  {
   "cell_type": "code",
   "execution_count": 46,
   "metadata": {},
   "outputs": [
    {
     "name": "stdout",
     "output_type": "stream",
     "text": [
      "\u001b[32m\u001b[1m  Updating\u001b[22m\u001b[39m `C:\\Users\\PC\\.julia\\environments\\v1.3\\Project.toml`\n",
      " \u001b[90m [10745b16]\u001b[39m\u001b[91m - Statistics \u001b[39m\n",
      "\u001b[32m\u001b[1m  Updating\u001b[22m\u001b[39m `C:\\Users\\PC\\.julia\\environments\\v1.3\\Manifest.toml`\n",
      "\u001b[90m [no changes]\u001b[39m\n"
     ]
    }
   ],
   "source": [
    "Pkg.rm(\"Statistics\")"
   ]
  },
  {
   "cell_type": "code",
   "execution_count": 47,
   "metadata": {},
   "outputs": [
    {
     "data": {
      "text/plain": [
       "Dict{String,Union{Nothing, VersionNumber}} with 7 entries:\n",
       "  \"CSV\"           => v\"0.5.20\"\n",
       "  \"Dates\"         => nothing\n",
       "  \"Serialization\" => nothing\n",
       "  \"Tables\"        => v\"0.2.11\"\n",
       "  \"IJulia\"        => v\"1.20.2\"\n",
       "  \"JSONTables\"    => v\"0.1.3\"\n",
       "  \"DataFrames\"    => v\"0.20.0\""
      ]
     },
     "execution_count": 47,
     "metadata": {},
     "output_type": "execute_result"
    }
   ],
   "source": [
    "Pkg.installed()"
   ]
  },
  {
   "cell_type": "code",
   "execution_count": 48,
   "metadata": {},
   "outputs": [
    {
     "name": "stdout",
     "output_type": "stream",
     "text": [
      "\u001b[32m\u001b[1m  Updating\u001b[22m\u001b[39m registry at `C:\\Users\\PC\\.julia\\registries\\General`\n",
      "\u001b[32m\u001b[1m  Updating\u001b[22m\u001b[39m git-repo `https://github.com/JuliaRegistries/General.git`\n",
      "\u001b[2K\u001b[?25h[1mFetching:\u001b[22m\u001b[39m [========================================>]  100.0 %.0 %\u001b[32m\u001b[1m Resolving\u001b[22m\u001b[39m package versions...\n",
      "\u001b[32m\u001b[1m  Updating\u001b[22m\u001b[39m `C:\\Users\\PC\\.julia\\environments\\v1.3\\Project.toml`\n",
      " \u001b[90m [10745b16]\u001b[39m\u001b[92m + Statistics \u001b[39m\n",
      "\u001b[32m\u001b[1m  Updating\u001b[22m\u001b[39m `C:\\Users\\PC\\.julia\\environments\\v1.3\\Manifest.toml`\n",
      "\u001b[90m [no changes]\u001b[39m\n"
     ]
    }
   ],
   "source": [
    "Pkg.add(\"Statistics\")"
   ]
  },
  {
   "cell_type": "code",
   "execution_count": 49,
   "metadata": {},
   "outputs": [
    {
     "data": {
      "text/plain": [
       "Dict{String,Union{Nothing, VersionNumber}} with 8 entries:\n",
       "  \"CSV\"           => v\"0.5.20\"\n",
       "  \"Dates\"         => nothing\n",
       "  \"Serialization\" => nothing\n",
       "  \"Statistics\"    => nothing\n",
       "  \"Tables\"        => v\"0.2.11\"\n",
       "  \"IJulia\"        => v\"1.20.2\"\n",
       "  \"JSONTables\"    => v\"0.1.3\"\n",
       "  \"DataFrames\"    => v\"0.20.0\""
      ]
     },
     "execution_count": 49,
     "metadata": {},
     "output_type": "execute_result"
    }
   ],
   "source": [
    "Pkg.installed()"
   ]
  },
  {
   "cell_type": "code",
   "execution_count": 50,
   "metadata": {},
   "outputs": [],
   "source": [
    "using Statistics"
   ]
  },
  {
   "cell_type": "code",
   "execution_count": 51,
   "metadata": {},
   "outputs": [
    {
     "data": {
      "text/plain": [
       "6.333333333333333"
      ]
     },
     "execution_count": 51,
     "metadata": {},
     "output_type": "execute_result"
    }
   ],
   "source": [
    "mean([3, 7, 9])"
   ]
  },
  {
   "cell_type": "markdown",
   "metadata": {},
   "source": [
    "# Vector & Matric processing"
   ]
  },
  {
   "cell_type": "code",
   "execution_count": 78,
   "metadata": {},
   "outputs": [],
   "source": [
    "using Random"
   ]
  },
  {
   "cell_type": "code",
   "execution_count": 79,
   "metadata": {},
   "outputs": [
    {
     "name": "stdout",
     "output_type": "stream",
     "text": [
      "\u001b[32m\u001b[1m Resolving\u001b[22m\u001b[39m package versions...\n",
      "\u001b[32m\u001b[1m  Updating\u001b[22m\u001b[39m `C:\\Users\\PC\\.julia\\environments\\v1.3\\Project.toml`\n",
      " \u001b[90m [9a3f8284]\u001b[39m\u001b[92m + Random \u001b[39m\n",
      "\u001b[32m\u001b[1m  Updating\u001b[22m\u001b[39m `C:\\Users\\PC\\.julia\\environments\\v1.3\\Manifest.toml`\n",
      "\u001b[90m [no changes]\u001b[39m\n"
     ]
    }
   ],
   "source": [
    "using Pkg\n",
    "Pkg.add(\"Random\")"
   ]
  },
  {
   "cell_type": "code",
   "execution_count": 80,
   "metadata": {},
   "outputs": [
    {
     "data": {
      "text/plain": [
       "3×4 Array{Float64,2}:\n",
       " 0.212091  0.749892  0.514377  0.0134821\n",
       " 0.100814  0.61483   0.473508  0.5997   \n",
       " 0.345032  0.969802  0.533101  0.778224 "
      ]
     },
     "execution_count": 80,
     "metadata": {},
     "output_type": "execute_result"
    }
   ],
   "source": [
    "rand(3,4)"
   ]
  },
  {
   "cell_type": "code",
   "execution_count": 81,
   "metadata": {},
   "outputs": [
    {
     "data": {
      "text/plain": [
       "10×2 Array{Float64,2}:\n",
       " -1.01981     0.860643 \n",
       "  0.807562   -0.406773 \n",
       "  0.0715052  -1.62553  \n",
       " -0.157517   -0.796571 \n",
       " -0.82345    -0.930174 \n",
       "  0.0150635  -0.997747 \n",
       "  1.94645     0.863456 \n",
       " -1.10283     2.92699  \n",
       "  1.72368    -0.835264 \n",
       " -1.66906     0.0433722"
      ]
     },
     "execution_count": 81,
     "metadata": {},
     "output_type": "execute_result"
    }
   ],
   "source": [
    "randn(10,2)"
   ]
  },
  {
   "cell_type": "code",
   "execution_count": 84,
   "metadata": {},
   "outputs": [
    {
     "data": {
      "text/plain": [
       "\"a3E9UEII\""
      ]
     },
     "execution_count": 84,
     "metadata": {},
     "output_type": "execute_result"
    }
   ],
   "source": [
    "randstring()"
   ]
  },
  {
   "cell_type": "code",
   "execution_count": 87,
   "metadata": {},
   "outputs": [
    {
     "data": {
      "text/plain": [
       "\"OBWRFZJDXBMIZMNMZJZABPVKVQNOJAVTOFQXANDQGVFDRBNGIL\""
      ]
     },
     "execution_count": 87,
     "metadata": {},
     "output_type": "execute_result"
    }
   ],
   "source": [
    "randstring('A':'Z', 50)"
   ]
  },
  {
   "cell_type": "code",
   "execution_count": 90,
   "metadata": {},
   "outputs": [
    {
     "data": {
      "text/plain": [
       "10-element Array{Int64,1}:\n",
       "  1\n",
       "  2\n",
       "  3\n",
       "  4\n",
       "  5\n",
       "  6\n",
       "  7\n",
       "  8\n",
       "  9\n",
       " 10"
      ]
     },
     "execution_count": 90,
     "metadata": {},
     "output_type": "execute_result"
    }
   ],
   "source": [
    "v1 = Vector(1:10)"
   ]
  },
  {
   "cell_type": "code",
   "execution_count": 93,
   "metadata": {},
   "outputs": [
    {
     "data": {
      "text/plain": [
       "2×5 Array{Int64,2}:\n",
       " 1  3  5  7   9\n",
       " 2  4  6  8  10"
      ]
     },
     "execution_count": 93,
     "metadata": {},
     "output_type": "execute_result"
    }
   ],
   "source": [
    "reshape(v1, (2,5))"
   ]
  },
  {
   "cell_type": "code",
   "execution_count": 94,
   "metadata": {},
   "outputs": [
    {
     "data": {
      "text/plain": [
       "3×5 Array{Float64,2}:\n",
       " 1.0  1.0  1.0  1.0  1.0\n",
       " 1.0  1.0  1.0  1.0  1.0\n",
       " 1.0  1.0  1.0  1.0  1.0"
      ]
     },
     "execution_count": 94,
     "metadata": {},
     "output_type": "execute_result"
    }
   ],
   "source": [
    "ones(3,5)"
   ]
  },
  {
   "cell_type": "code",
   "execution_count": 96,
   "metadata": {},
   "outputs": [
    {
     "data": {
      "text/plain": [
       "2×5×6 Array{Float64,3}:\n",
       "[:, :, 1] =\n",
       " 0.0  0.0  0.0  0.0  0.0\n",
       " 0.0  0.0  0.0  0.0  0.0\n",
       "\n",
       "[:, :, 2] =\n",
       " 0.0  0.0  0.0  0.0  0.0\n",
       " 0.0  0.0  0.0  0.0  0.0\n",
       "\n",
       "[:, :, 3] =\n",
       " 0.0  0.0  0.0  0.0  0.0\n",
       " 0.0  0.0  0.0  0.0  0.0\n",
       "\n",
       "[:, :, 4] =\n",
       " 0.0  0.0  0.0  0.0  0.0\n",
       " 0.0  0.0  0.0  0.0  0.0\n",
       "\n",
       "[:, :, 5] =\n",
       " 0.0  0.0  0.0  0.0  0.0\n",
       " 0.0  0.0  0.0  0.0  0.0\n",
       "\n",
       "[:, :, 6] =\n",
       " 0.0  0.0  0.0  0.0  0.0\n",
       " 0.0  0.0  0.0  0.0  0.0"
      ]
     },
     "execution_count": 96,
     "metadata": {},
     "output_type": "execute_result"
    }
   ],
   "source": [
    "zeros(2,5, 6)"
   ]
  },
  {
   "cell_type": "code",
   "execution_count": 97,
   "metadata": {},
   "outputs": [],
   "source": [
    "using LinearAlgebra"
   ]
  },
  {
   "cell_type": "code",
   "execution_count": 99,
   "metadata": {},
   "outputs": [
    {
     "data": {
      "text/plain": [
       "10×10 Diagonal{Bool,Array{Bool,1}}:\n",
       " 1  ⋅  ⋅  ⋅  ⋅  ⋅  ⋅  ⋅  ⋅  ⋅\n",
       " ⋅  1  ⋅  ⋅  ⋅  ⋅  ⋅  ⋅  ⋅  ⋅\n",
       " ⋅  ⋅  1  ⋅  ⋅  ⋅  ⋅  ⋅  ⋅  ⋅\n",
       " ⋅  ⋅  ⋅  1  ⋅  ⋅  ⋅  ⋅  ⋅  ⋅\n",
       " ⋅  ⋅  ⋅  ⋅  1  ⋅  ⋅  ⋅  ⋅  ⋅\n",
       " ⋅  ⋅  ⋅  ⋅  ⋅  1  ⋅  ⋅  ⋅  ⋅\n",
       " ⋅  ⋅  ⋅  ⋅  ⋅  ⋅  1  ⋅  ⋅  ⋅\n",
       " ⋅  ⋅  ⋅  ⋅  ⋅  ⋅  ⋅  1  ⋅  ⋅\n",
       " ⋅  ⋅  ⋅  ⋅  ⋅  ⋅  ⋅  ⋅  1  ⋅\n",
       " ⋅  ⋅  ⋅  ⋅  ⋅  ⋅  ⋅  ⋅  ⋅  1"
      ]
     },
     "execution_count": 99,
     "metadata": {},
     "output_type": "execute_result"
    }
   ],
   "source": [
    "I(10)"
   ]
  },
  {
   "cell_type": "code",
   "execution_count": 101,
   "metadata": {},
   "outputs": [
    {
     "data": {
      "text/plain": [
       "3×3 Array{Int64,2}:\n",
       " 2  4  5\n",
       " 1  2  3\n",
       " 6  7  0"
      ]
     },
     "execution_count": 101,
     "metadata": {},
     "output_type": "execute_result"
    }
   ],
   "source": [
    "M = [2 4 5;1 2 3;6 7 0]"
   ]
  },
  {
   "cell_type": "code",
   "execution_count": 102,
   "metadata": {},
   "outputs": [
    {
     "data": {
      "text/plain": [
       "Array{Int64,2}"
      ]
     },
     "execution_count": 102,
     "metadata": {},
     "output_type": "execute_result"
    }
   ],
   "source": [
    "typeof(M)"
   ]
  },
  {
   "cell_type": "code",
   "execution_count": 103,
   "metadata": {},
   "outputs": [
    {
     "data": {
      "text/plain": [
       "(3, 3)"
      ]
     },
     "execution_count": 103,
     "metadata": {},
     "output_type": "execute_result"
    }
   ],
   "source": [
    "size(M)"
   ]
  },
  {
   "cell_type": "code",
   "execution_count": 105,
   "metadata": {},
   "outputs": [
    {
     "data": {
      "text/plain": [
       "3-element Array{Int64,1}:\n",
       " 4\n",
       " 2\n",
       " 7"
      ]
     },
     "execution_count": 105,
     "metadata": {},
     "output_type": "execute_result"
    }
   ],
   "source": [
    "M[1,:]\n",
    "M[:, 2]"
   ]
  },
  {
   "cell_type": "code",
   "execution_count": 106,
   "metadata": {},
   "outputs": [
    {
     "data": {
      "text/plain": [
       "3×3 Array{Int64,2}:\n",
       " 1  2  3\n",
       " 4  5  6\n",
       " 7  8  9"
      ]
     },
     "execution_count": 106,
     "metadata": {},
     "output_type": "execute_result"
    }
   ],
   "source": [
    "N = [1 2 3;4 5 6; 7 8 9]"
   ]
  },
  {
   "cell_type": "code",
   "execution_count": 107,
   "metadata": {},
   "outputs": [
    {
     "data": {
      "text/plain": [
       "3×6 Array{Int64,2}:\n",
       " 2  4  5  1  2  3\n",
       " 1  2  3  4  5  6\n",
       " 6  7  0  7  8  9"
      ]
     },
     "execution_count": 107,
     "metadata": {},
     "output_type": "execute_result"
    }
   ],
   "source": [
    "[M N]"
   ]
  },
  {
   "cell_type": "code",
   "execution_count": 108,
   "metadata": {},
   "outputs": [
    {
     "data": {
      "text/plain": [
       "6×3 Array{Int64,2}:\n",
       " 2  4  5\n",
       " 1  2  3\n",
       " 6  7  0\n",
       " 1  2  3\n",
       " 4  5  6\n",
       " 7  8  9"
      ]
     },
     "execution_count": 108,
     "metadata": {},
     "output_type": "execute_result"
    }
   ],
   "source": [
    "[M;N]"
   ]
  },
  {
   "cell_type": "code",
   "execution_count": 109,
   "metadata": {},
   "outputs": [
    {
     "data": {
      "text/plain": [
       "3×6 Array{Int64,2}:\n",
       " 2  4  5  1  2  3\n",
       " 1  2  3  4  5  6\n",
       " 6  7  0  7  8  9"
      ]
     },
     "execution_count": 109,
     "metadata": {},
     "output_type": "execute_result"
    }
   ],
   "source": [
    "hcat(M, N)"
   ]
  },
  {
   "cell_type": "code",
   "execution_count": 110,
   "metadata": {},
   "outputs": [
    {
     "data": {
      "text/plain": [
       "6×3 Array{Int64,2}:\n",
       " 2  4  5\n",
       " 1  2  3\n",
       " 6  7  0\n",
       " 1  2  3\n",
       " 4  5  6\n",
       " 7  8  9"
      ]
     },
     "execution_count": 110,
     "metadata": {},
     "output_type": "execute_result"
    }
   ],
   "source": [
    "vcat(M, N)"
   ]
  },
  {
   "cell_type": "code",
   "execution_count": 111,
   "metadata": {},
   "outputs": [
    {
     "data": {
      "text/plain": [
       "3×3 Array{Int64,2}:\n",
       " 2  4  5\n",
       " 1  2  3\n",
       " 6  7  0"
      ]
     },
     "execution_count": 111,
     "metadata": {},
     "output_type": "execute_result"
    }
   ],
   "source": [
    "M"
   ]
  },
  {
   "cell_type": "code",
   "execution_count": 112,
   "metadata": {},
   "outputs": [
    {
     "data": {
      "text/plain": [
       "3×3 Transpose{Int64,Array{Int64,2}}:\n",
       " 2  1  6\n",
       " 4  2  7\n",
       " 5  3  0"
      ]
     },
     "execution_count": 112,
     "metadata": {},
     "output_type": "execute_result"
    }
   ],
   "source": [
    "transpose(M)"
   ]
  },
  {
   "cell_type": "code",
   "execution_count": 113,
   "metadata": {},
   "outputs": [
    {
     "data": {
      "text/plain": [
       "4"
      ]
     },
     "execution_count": 113,
     "metadata": {},
     "output_type": "execute_result"
    }
   ],
   "source": [
    "tr(M)"
   ]
  },
  {
   "cell_type": "code",
   "execution_count": 114,
   "metadata": {},
   "outputs": [
    {
     "data": {
      "text/plain": [
       "5.000000000000001"
      ]
     },
     "execution_count": 114,
     "metadata": {},
     "output_type": "execute_result"
    }
   ],
   "source": [
    "det(M)"
   ]
  },
  {
   "cell_type": "code",
   "execution_count": 115,
   "metadata": {},
   "outputs": [
    {
     "data": {
      "text/plain": [
       "3×3 Array{Float64,2}:\n",
       " -4.2   7.0   0.4\n",
       "  3.6  -6.0  -0.2\n",
       " -1.0   2.0   0.0"
      ]
     },
     "execution_count": 115,
     "metadata": {},
     "output_type": "execute_result"
    }
   ],
   "source": [
    "inv(M)"
   ]
  },
  {
   "cell_type": "code",
   "execution_count": 116,
   "metadata": {},
   "outputs": [
    {
     "data": {
      "text/plain": [
       "3×3 Array{Int64,2}:\n",
       " 2  4  5\n",
       " 1  2  3\n",
       " 6  7  0"
      ]
     },
     "execution_count": 116,
     "metadata": {},
     "output_type": "execute_result"
    }
   ],
   "source": [
    "M"
   ]
  },
  {
   "cell_type": "code",
   "execution_count": 118,
   "metadata": {},
   "outputs": [
    {
     "data": {
      "text/plain": [
       "3×3 LowerTriangular{Int64,Array{Int64,2}}:\n",
       " 2  ⋅  ⋅\n",
       " 1  2  ⋅\n",
       " 6  7  0"
      ]
     },
     "execution_count": 118,
     "metadata": {},
     "output_type": "execute_result"
    }
   ],
   "source": [
    "UpperTriangular(M)\n",
    "LowerTriangular(M)"
   ]
  },
  {
   "cell_type": "code",
   "execution_count": 120,
   "metadata": {},
   "outputs": [
    {
     "data": {
      "text/plain": [
       "3-element Array{Float64,1}:\n",
       " -5.352954259951673  \n",
       " -0.09882411688237432\n",
       "  9.451778376834048  "
      ]
     },
     "execution_count": 120,
     "metadata": {},
     "output_type": "execute_result"
    }
   ],
   "source": [
    "eigvecs(M)\n",
    "eigvals(M)"
   ]
  },
  {
   "cell_type": "code",
   "execution_count": null,
   "metadata": {},
   "outputs": [],
   "source": []
  },
  {
   "cell_type": "markdown",
   "metadata": {},
   "source": [
    "## DataFrames"
   ]
  },
  {
   "cell_type": "code",
   "execution_count": 8,
   "metadata": {},
   "outputs": [],
   "source": [
    "using Pkg"
   ]
  },
  {
   "cell_type": "code",
   "execution_count": 9,
   "metadata": {},
   "outputs": [
    {
     "name": "stdout",
     "output_type": "stream",
     "text": [
      "\u001b[32m\u001b[1m Resolving\u001b[22m\u001b[39m package versions...\n",
      "\u001b[32m\u001b[1m  Updating\u001b[22m\u001b[39m `C:\\Users\\PC\\.julia\\environments\\v1.3\\Project.toml`\n",
      "\u001b[90m [no changes]\u001b[39m\n",
      "\u001b[32m\u001b[1m  Updating\u001b[22m\u001b[39m `C:\\Users\\PC\\.julia\\environments\\v1.3\\Manifest.toml`\n",
      "\u001b[90m [no changes]\u001b[39m\n"
     ]
    }
   ],
   "source": [
    "Pkg.add(\"DataFrames\")"
   ]
  },
  {
   "cell_type": "code",
   "execution_count": 10,
   "metadata": {},
   "outputs": [
    {
     "name": "stderr",
     "output_type": "stream",
     "text": [
      "┌ Info: Precompiling DataFrames [a93c6f00-e57d-5684-b7b6-d8193f3e46c0]\n",
      "└ @ Base loading.jl:1273\n"
     ]
    }
   ],
   "source": [
    "using DataFrames"
   ]
  },
  {
   "cell_type": "code",
   "execution_count": 11,
   "metadata": {},
   "outputs": [
    {
     "data": {
      "text/html": [
       "<table class=\"data-frame\"><thead><tr><th></th></tr><tr><th></th></tr></thead><tbody><p>0 rows × 0 columns</p></tbody></table>"
      ],
      "text/latex": [
       "\\begin{tabular}{r|}\n",
       "\t& \\\\\n",
       "\t\\hline\n",
       "\t& \\\\\n",
       "\t\\hline\n",
       "\\end{tabular}\n"
      ],
      "text/plain": [
       "0×0 DataFrame\n"
      ]
     },
     "execution_count": 11,
     "metadata": {},
     "output_type": "execute_result"
    }
   ],
   "source": [
    "DataFrame()"
   ]
  },
  {
   "cell_type": "code",
   "execution_count": 13,
   "metadata": {
    "collapsed": true
   },
   "outputs": [
    {
     "data": {
      "text/html": [
       "<table class=\"data-frame\"><thead><tr><th></th><th>x1</th><th>x2</th><th>x3</th></tr><tr><th></th><th>Float64</th><th>Float64</th><th>Float64</th></tr></thead><tbody><p>10 rows × 3 columns</p><tr><th>1</th><td>0.324437</td><td>0.349635</td><td>0.990421</td></tr><tr><th>2</th><td>0.0925833</td><td>0.70677</td><td>0.76625</td></tr><tr><th>3</th><td>0.94746</td><td>0.191204</td><td>0.736557</td></tr><tr><th>4</th><td>0.629054</td><td>0.787623</td><td>0.291365</td></tr><tr><th>5</th><td>0.405731</td><td>0.437356</td><td>0.771261</td></tr><tr><th>6</th><td>0.032516</td><td>0.0713079</td><td>0.137537</td></tr><tr><th>7</th><td>0.878038</td><td>0.346328</td><td>0.132825</td></tr><tr><th>8</th><td>0.522913</td><td>0.76942</td><td>0.612229</td></tr><tr><th>9</th><td>0.575977</td><td>0.0784736</td><td>0.782936</td></tr><tr><th>10</th><td>0.740062</td><td>0.0182907</td><td>0.268897</td></tr></tbody></table>"
      ],
      "text/latex": [
       "\\begin{tabular}{r|ccc}\n",
       "\t& x1 & x2 & x3\\\\\n",
       "\t\\hline\n",
       "\t& Float64 & Float64 & Float64\\\\\n",
       "\t\\hline\n",
       "\t1 & 0.324437 & 0.349635 & 0.990421 \\\\\n",
       "\t2 & 0.0925833 & 0.70677 & 0.76625 \\\\\n",
       "\t3 & 0.94746 & 0.191204 & 0.736557 \\\\\n",
       "\t4 & 0.629054 & 0.787623 & 0.291365 \\\\\n",
       "\t5 & 0.405731 & 0.437356 & 0.771261 \\\\\n",
       "\t6 & 0.032516 & 0.0713079 & 0.137537 \\\\\n",
       "\t7 & 0.878038 & 0.346328 & 0.132825 \\\\\n",
       "\t8 & 0.522913 & 0.76942 & 0.612229 \\\\\n",
       "\t9 & 0.575977 & 0.0784736 & 0.782936 \\\\\n",
       "\t10 & 0.740062 & 0.0182907 & 0.268897 \\\\\n",
       "\\end{tabular}\n"
      ],
      "text/plain": [
       "10×3 DataFrame\n",
       "│ Row │ x1        │ x2        │ x3       │\n",
       "│     │ \u001b[90mFloat64\u001b[39m   │ \u001b[90mFloat64\u001b[39m   │ \u001b[90mFloat64\u001b[39m  │\n",
       "├─────┼───────────┼───────────┼──────────┤\n",
       "│ 1   │ 0.324437  │ 0.349635  │ 0.990421 │\n",
       "│ 2   │ 0.0925833 │ 0.70677   │ 0.76625  │\n",
       "│ 3   │ 0.94746   │ 0.191204  │ 0.736557 │\n",
       "│ 4   │ 0.629054  │ 0.787623  │ 0.291365 │\n",
       "│ 5   │ 0.405731  │ 0.437356  │ 0.771261 │\n",
       "│ 6   │ 0.032516  │ 0.0713079 │ 0.137537 │\n",
       "│ 7   │ 0.878038  │ 0.346328  │ 0.132825 │\n",
       "│ 8   │ 0.522913  │ 0.76942   │ 0.612229 │\n",
       "│ 9   │ 0.575977  │ 0.0784736 │ 0.782936 │\n",
       "│ 10  │ 0.740062  │ 0.0182907 │ 0.268897 │"
      ]
     },
     "execution_count": 13,
     "metadata": {},
     "output_type": "execute_result"
    }
   ],
   "source": [
    "DataFrame(A = 1:4 , B = rand(4))\n",
    "DataFrame(rand(10,3))"
   ]
  },
  {
   "cell_type": "code",
   "execution_count": 15,
   "metadata": {},
   "outputs": [
    {
     "data": {
      "text/plain": [
       "10×3 Array{Float64,2}:\n",
       " 0.644397  0.3973    0.891761\n",
       " 0.168366  0.42091   0.203717\n",
       " 0.256918  0.611832  0.301208\n",
       " 0.588754  0.30716   0.570314\n",
       " 0.289399  0.640386  0.15756 \n",
       " 0.516749  0.711247  0.17567 \n",
       " 0.939877  0.496064  0.582792\n",
       " 0.971941  0.112961  0.490601\n",
       " 0.845785  0.965688  0.980011\n",
       " 0.877195  0.947745  0.242531"
      ]
     },
     "execution_count": 15,
     "metadata": {},
     "output_type": "execute_result"
    }
   ],
   "source": [
    "X1 = DataFrame(rand(10,3))\n",
    "Matrix(X1)"
   ]
  },
  {
   "cell_type": "code",
   "execution_count": 16,
   "metadata": {},
   "outputs": [
    {
     "name": "stdout",
     "output_type": "stream",
     "text": [
      "\u001b[32m\u001b[1m Resolving\u001b[22m\u001b[39m package versions...\n",
      "\u001b[32m\u001b[1m  Updating\u001b[22m\u001b[39m `C:\\Users\\PC\\.julia\\environments\\v1.3\\Project.toml`\n",
      "\u001b[90m [no changes]\u001b[39m\n",
      "\u001b[32m\u001b[1m  Updating\u001b[22m\u001b[39m `C:\\Users\\PC\\.julia\\environments\\v1.3\\Manifest.toml`\n",
      "\u001b[90m [no changes]\u001b[39m\n"
     ]
    }
   ],
   "source": [
    "Pkg.add(\"Tables\")\n",
    "using Tables"
   ]
  },
  {
   "cell_type": "code",
   "execution_count": 17,
   "metadata": {},
   "outputs": [
    {
     "data": {
      "text/plain": [
       "(x1 = [0.6443970207158132, 0.16836647037238572, 0.25691810511716784, 0.5887541474506262, 0.2893991097052968, 0.5167491644488571, 0.9398768713083885, 0.9719405601696842, 0.8457847974294948, 0.8771948137424042], x2 = [0.39729965055980965, 0.42090998973798177, 0.6118320622858819, 0.3071600506070833, 0.6403860693938572, 0.7112474610036954, 0.4960635129260953, 0.11296146705193455, 0.9656884706373685, 0.9477449124690394], x3 = [0.8917613340518542, 0.20371748415671442, 0.30120784722212135, 0.5703135994018018, 0.15755990979575984, 0.17567012336147303, 0.5827917795303967, 0.49060105560622724, 0.980010723259628, 0.2425310784827912])"
      ]
     },
     "execution_count": 17,
     "metadata": {},
     "output_type": "execute_result"
    }
   ],
   "source": [
    "tb = Tables.columntable(X1)"
   ]
  },
  {
   "cell_type": "code",
   "execution_count": 18,
   "metadata": {},
   "outputs": [
    {
     "data": {
      "text/plain": [
       "NamedTuple{(:x1, :x2, :x3),Tuple{Array{Float64,1},Array{Float64,1},Array{Float64,1}}}"
      ]
     },
     "execution_count": 18,
     "metadata": {},
     "output_type": "execute_result"
    }
   ],
   "source": [
    "typeof(tb)"
   ]
  },
  {
   "cell_type": "code",
   "execution_count": 21,
   "metadata": {},
   "outputs": [
    {
     "data": {
      "text/plain": [
       "10-element Array{Float64,1}:\n",
       " 0.8917613340518542 \n",
       " 0.20371748415671442\n",
       " 0.30120784722212135\n",
       " 0.5703135994018018 \n",
       " 0.15755990979575984\n",
       " 0.17567012336147303\n",
       " 0.5827917795303967 \n",
       " 0.49060105560622724\n",
       " 0.980010723259628  \n",
       " 0.2425310784827912 "
      ]
     },
     "execution_count": 21,
     "metadata": {},
     "output_type": "execute_result"
    }
   ],
   "source": [
    "tb.x1\n",
    "tb.x2\n",
    "tb.x3"
   ]
  },
  {
   "cell_type": "markdown",
   "metadata": {},
   "source": [
    "## More on DataFrames"
   ]
  },
  {
   "cell_type": "code",
   "execution_count": 22,
   "metadata": {},
   "outputs": [
    {
     "data": {
      "text/html": [
       "<table class=\"data-frame\"><thead><tr><th></th><th>x1</th><th>x2</th><th>x3</th></tr><tr><th></th><th>Float64</th><th>Float64</th><th>Float64</th></tr></thead><tbody><p>10 rows × 3 columns</p><tr><th>1</th><td>0.644397</td><td>0.3973</td><td>0.891761</td></tr><tr><th>2</th><td>0.168366</td><td>0.42091</td><td>0.203717</td></tr><tr><th>3</th><td>0.256918</td><td>0.611832</td><td>0.301208</td></tr><tr><th>4</th><td>0.588754</td><td>0.30716</td><td>0.570314</td></tr><tr><th>5</th><td>0.289399</td><td>0.640386</td><td>0.15756</td></tr><tr><th>6</th><td>0.516749</td><td>0.711247</td><td>0.17567</td></tr><tr><th>7</th><td>0.939877</td><td>0.496064</td><td>0.582792</td></tr><tr><th>8</th><td>0.971941</td><td>0.112961</td><td>0.490601</td></tr><tr><th>9</th><td>0.845785</td><td>0.965688</td><td>0.980011</td></tr><tr><th>10</th><td>0.877195</td><td>0.947745</td><td>0.242531</td></tr></tbody></table>"
      ],
      "text/latex": [
       "\\begin{tabular}{r|ccc}\n",
       "\t& x1 & x2 & x3\\\\\n",
       "\t\\hline\n",
       "\t& Float64 & Float64 & Float64\\\\\n",
       "\t\\hline\n",
       "\t1 & 0.644397 & 0.3973 & 0.891761 \\\\\n",
       "\t2 & 0.168366 & 0.42091 & 0.203717 \\\\\n",
       "\t3 & 0.256918 & 0.611832 & 0.301208 \\\\\n",
       "\t4 & 0.588754 & 0.30716 & 0.570314 \\\\\n",
       "\t5 & 0.289399 & 0.640386 & 0.15756 \\\\\n",
       "\t6 & 0.516749 & 0.711247 & 0.17567 \\\\\n",
       "\t7 & 0.939877 & 0.496064 & 0.582792 \\\\\n",
       "\t8 & 0.971941 & 0.112961 & 0.490601 \\\\\n",
       "\t9 & 0.845785 & 0.965688 & 0.980011 \\\\\n",
       "\t10 & 0.877195 & 0.947745 & 0.242531 \\\\\n",
       "\\end{tabular}\n"
      ],
      "text/plain": [
       "10×3 DataFrame\n",
       "│ Row │ x1       │ x2       │ x3       │\n",
       "│     │ \u001b[90mFloat64\u001b[39m  │ \u001b[90mFloat64\u001b[39m  │ \u001b[90mFloat64\u001b[39m  │\n",
       "├─────┼──────────┼──────────┼──────────┤\n",
       "│ 1   │ 0.644397 │ 0.3973   │ 0.891761 │\n",
       "│ 2   │ 0.168366 │ 0.42091  │ 0.203717 │\n",
       "│ 3   │ 0.256918 │ 0.611832 │ 0.301208 │\n",
       "│ 4   │ 0.588754 │ 0.30716  │ 0.570314 │\n",
       "│ 5   │ 0.289399 │ 0.640386 │ 0.15756  │\n",
       "│ 6   │ 0.516749 │ 0.711247 │ 0.17567  │\n",
       "│ 7   │ 0.939877 │ 0.496064 │ 0.582792 │\n",
       "│ 8   │ 0.971941 │ 0.112961 │ 0.490601 │\n",
       "│ 9   │ 0.845785 │ 0.965688 │ 0.980011 │\n",
       "│ 10  │ 0.877195 │ 0.947745 │ 0.242531 │"
      ]
     },
     "execution_count": 22,
     "metadata": {},
     "output_type": "execute_result"
    }
   ],
   "source": [
    "X1"
   ]
  },
  {
   "cell_type": "code",
   "execution_count": 23,
   "metadata": {},
   "outputs": [
    {
     "data": {
      "text/plain": [
       "3-element Array{Symbol,1}:\n",
       " :x1\n",
       " :x2\n",
       " :x3"
      ]
     },
     "execution_count": 23,
     "metadata": {},
     "output_type": "execute_result"
    }
   ],
   "source": [
    "names(X1)"
   ]
  },
  {
   "cell_type": "code",
   "execution_count": 24,
   "metadata": {},
   "outputs": [
    {
     "data": {
      "text/plain": [
       "(10, 3)"
      ]
     },
     "execution_count": 24,
     "metadata": {},
     "output_type": "execute_result"
    }
   ],
   "source": [
    "size(X1)"
   ]
  },
  {
   "cell_type": "code",
   "execution_count": 26,
   "metadata": {},
   "outputs": [
    {
     "data": {
      "text/plain": [
       "(10, 3)"
      ]
     },
     "execution_count": 26,
     "metadata": {},
     "output_type": "execute_result"
    }
   ],
   "source": [
    "size(X1,1), size(X1,2)"
   ]
  },
  {
   "cell_type": "code",
   "execution_count": 28,
   "metadata": {},
   "outputs": [
    {
     "data": {
      "text/plain": [
       "3"
      ]
     },
     "execution_count": 28,
     "metadata": {},
     "output_type": "execute_result"
    }
   ],
   "source": [
    "nrow(X1)\n",
    "ncol(X1)"
   ]
  },
  {
   "cell_type": "code",
   "execution_count": 30,
   "metadata": {},
   "outputs": [
    {
     "data": {
      "text/html": [
       "<table class=\"data-frame\"><thead><tr><th></th><th>variable</th><th>mean</th><th>min</th><th>median</th><th>max</th><th>nunique</th><th>nmissing</th><th>eltype</th></tr><tr><th></th><th>Symbol</th><th>Float64</th><th>Float64</th><th>Float64</th><th>Float64</th><th>Nothing</th><th>Nothing</th><th>DataType</th></tr></thead><tbody><p>2 rows × 8 columns</p><tr><th>1</th><td>x1</td><td>0.609938</td><td>0.168366</td><td>0.616576</td><td>0.971941</td><td></td><td></td><td>Float64</td></tr><tr><th>2</th><td>x2</td><td>0.561129</td><td>0.112961</td><td>0.553948</td><td>0.965688</td><td></td><td></td><td>Float64</td></tr></tbody></table>"
      ],
      "text/latex": [
       "\\begin{tabular}{r|cccccccc}\n",
       "\t& variable & mean & min & median & max & nunique & nmissing & eltype\\\\\n",
       "\t\\hline\n",
       "\t& Symbol & Float64 & Float64 & Float64 & Float64 & Nothing & Nothing & DataType\\\\\n",
       "\t\\hline\n",
       "\t1 & x1 & 0.609938 & 0.168366 & 0.616576 & 0.971941 &  &  & Float64 \\\\\n",
       "\t2 & x2 & 0.561129 & 0.112961 & 0.553948 & 0.965688 &  &  & Float64 \\\\\n",
       "\\end{tabular}\n"
      ],
      "text/plain": [
       "2×8 DataFrame. Omitted printing of 2 columns\n",
       "│ Row │ variable │ mean     │ min      │ median   │ max      │ nunique │\n",
       "│     │ \u001b[90mSymbol\u001b[39m   │ \u001b[90mFloat64\u001b[39m  │ \u001b[90mFloat64\u001b[39m  │ \u001b[90mFloat64\u001b[39m  │ \u001b[90mFloat64\u001b[39m  │ \u001b[90mNothing\u001b[39m │\n",
       "├─────┼──────────┼──────────┼──────────┼──────────┼──────────┼─────────┤\n",
       "│ 1   │ x1       │ 0.609938 │ 0.168366 │ 0.616576 │ 0.971941 │         │\n",
       "│ 2   │ x2       │ 0.561129 │ 0.112961 │ 0.553948 │ 0.965688 │         │"
      ]
     },
     "execution_count": 30,
     "metadata": {},
     "output_type": "execute_result"
    }
   ],
   "source": [
    "describe(X1)\n",
    "describe(X1, cols=1:2)"
   ]
  },
  {
   "cell_type": "code",
   "execution_count": 33,
   "metadata": {},
   "outputs": [
    {
     "data": {
      "text/plain": [
       "3-element Array{DataType,1}:\n",
       " Float64\n",
       " Float64\n",
       " Float64"
      ]
     },
     "execution_count": 33,
     "metadata": {},
     "output_type": "execute_result"
    }
   ],
   "source": [
    "eltype.(eachcol(X1))"
   ]
  },
  {
   "cell_type": "code",
   "execution_count": 35,
   "metadata": {},
   "outputs": [
    {
     "data": {
      "text/html": [
       "<table class=\"data-frame\"><thead><tr><th></th><th>x1</th><th>x2</th><th>x3</th></tr><tr><th></th><th>Float64</th><th>Float64</th><th>Float64</th></tr></thead><tbody><p>5 rows × 3 columns</p><tr><th>1</th><td>0.644397</td><td>0.3973</td><td>0.891761</td></tr><tr><th>2</th><td>0.168366</td><td>0.42091</td><td>0.203717</td></tr><tr><th>3</th><td>0.256918</td><td>0.611832</td><td>0.301208</td></tr><tr><th>4</th><td>0.588754</td><td>0.30716</td><td>0.570314</td></tr><tr><th>5</th><td>0.289399</td><td>0.640386</td><td>0.15756</td></tr></tbody></table>"
      ],
      "text/latex": [
       "\\begin{tabular}{r|ccc}\n",
       "\t& x1 & x2 & x3\\\\\n",
       "\t\\hline\n",
       "\t& Float64 & Float64 & Float64\\\\\n",
       "\t\\hline\n",
       "\t1 & 0.644397 & 0.3973 & 0.891761 \\\\\n",
       "\t2 & 0.168366 & 0.42091 & 0.203717 \\\\\n",
       "\t3 & 0.256918 & 0.611832 & 0.301208 \\\\\n",
       "\t4 & 0.588754 & 0.30716 & 0.570314 \\\\\n",
       "\t5 & 0.289399 & 0.640386 & 0.15756 \\\\\n",
       "\\end{tabular}\n"
      ],
      "text/plain": [
       "5×3 DataFrame\n",
       "│ Row │ x1       │ x2       │ x3       │\n",
       "│     │ \u001b[90mFloat64\u001b[39m  │ \u001b[90mFloat64\u001b[39m  │ \u001b[90mFloat64\u001b[39m  │\n",
       "├─────┼──────────┼──────────┼──────────┤\n",
       "│ 1   │ 0.644397 │ 0.3973   │ 0.891761 │\n",
       "│ 2   │ 0.168366 │ 0.42091  │ 0.203717 │\n",
       "│ 3   │ 0.256918 │ 0.611832 │ 0.301208 │\n",
       "│ 4   │ 0.588754 │ 0.30716  │ 0.570314 │\n",
       "│ 5   │ 0.289399 │ 0.640386 │ 0.15756  │"
      ]
     },
     "execution_count": 35,
     "metadata": {},
     "output_type": "execute_result"
    }
   ],
   "source": [
    "first(X1)\n",
    "first(X1, 5)"
   ]
  },
  {
   "cell_type": "code",
   "execution_count": 37,
   "metadata": {},
   "outputs": [
    {
     "data": {
      "text/html": [
       "<table class=\"data-frame\"><thead><tr><th></th><th>x1</th><th>x2</th><th>x3</th></tr><tr><th></th><th>Float64</th><th>Float64</th><th>Float64</th></tr></thead><tbody><p>2 rows × 3 columns</p><tr><th>1</th><td>0.845785</td><td>0.965688</td><td>0.980011</td></tr><tr><th>2</th><td>0.877195</td><td>0.947745</td><td>0.242531</td></tr></tbody></table>"
      ],
      "text/latex": [
       "\\begin{tabular}{r|ccc}\n",
       "\t& x1 & x2 & x3\\\\\n",
       "\t\\hline\n",
       "\t& Float64 & Float64 & Float64\\\\\n",
       "\t\\hline\n",
       "\t1 & 0.845785 & 0.965688 & 0.980011 \\\\\n",
       "\t2 & 0.877195 & 0.947745 & 0.242531 \\\\\n",
       "\\end{tabular}\n"
      ],
      "text/plain": [
       "2×3 DataFrame\n",
       "│ Row │ x1       │ x2       │ x3       │\n",
       "│     │ \u001b[90mFloat64\u001b[39m  │ \u001b[90mFloat64\u001b[39m  │ \u001b[90mFloat64\u001b[39m  │\n",
       "├─────┼──────────┼──────────┼──────────┤\n",
       "│ 1   │ 0.845785 │ 0.965688 │ 0.980011 │\n",
       "│ 2   │ 0.877195 │ 0.947745 │ 0.242531 │"
      ]
     },
     "execution_count": 37,
     "metadata": {},
     "output_type": "execute_result"
    }
   ],
   "source": [
    "last(X1)\n",
    "last(X1, 2)"
   ]
  },
  {
   "cell_type": "code",
   "execution_count": 38,
   "metadata": {},
   "outputs": [
    {
     "data": {
      "text/html": [
       "<table class=\"data-frame\"><thead><tr><th></th><th>x1</th><th>x2</th><th>x3</th></tr><tr><th></th><th>Float64</th><th>Float64</th><th>Float64</th></tr></thead><tbody><p>10 rows × 3 columns</p><tr><th>1</th><td>0.644397</td><td>0.3973</td><td>0.891761</td></tr><tr><th>2</th><td>0.168366</td><td>0.42091</td><td>0.203717</td></tr><tr><th>3</th><td>0.256918</td><td>0.611832</td><td>0.301208</td></tr><tr><th>4</th><td>0.588754</td><td>0.30716</td><td>0.570314</td></tr><tr><th>5</th><td>0.289399</td><td>0.640386</td><td>0.15756</td></tr><tr><th>6</th><td>0.516749</td><td>0.711247</td><td>0.17567</td></tr><tr><th>7</th><td>0.939877</td><td>0.496064</td><td>0.582792</td></tr><tr><th>8</th><td>0.971941</td><td>0.112961</td><td>0.490601</td></tr><tr><th>9</th><td>0.845785</td><td>0.965688</td><td>0.980011</td></tr><tr><th>10</th><td>0.877195</td><td>0.947745</td><td>0.242531</td></tr></tbody></table>"
      ],
      "text/latex": [
       "\\begin{tabular}{r|ccc}\n",
       "\t& x1 & x2 & x3\\\\\n",
       "\t\\hline\n",
       "\t& Float64 & Float64 & Float64\\\\\n",
       "\t\\hline\n",
       "\t1 & 0.644397 & 0.3973 & 0.891761 \\\\\n",
       "\t2 & 0.168366 & 0.42091 & 0.203717 \\\\\n",
       "\t3 & 0.256918 & 0.611832 & 0.301208 \\\\\n",
       "\t4 & 0.588754 & 0.30716 & 0.570314 \\\\\n",
       "\t5 & 0.289399 & 0.640386 & 0.15756 \\\\\n",
       "\t6 & 0.516749 & 0.711247 & 0.17567 \\\\\n",
       "\t7 & 0.939877 & 0.496064 & 0.582792 \\\\\n",
       "\t8 & 0.971941 & 0.112961 & 0.490601 \\\\\n",
       "\t9 & 0.845785 & 0.965688 & 0.980011 \\\\\n",
       "\t10 & 0.877195 & 0.947745 & 0.242531 \\\\\n",
       "\\end{tabular}\n"
      ],
      "text/plain": [
       "10×3 DataFrame\n",
       "│ Row │ x1       │ x2       │ x3       │\n",
       "│     │ \u001b[90mFloat64\u001b[39m  │ \u001b[90mFloat64\u001b[39m  │ \u001b[90mFloat64\u001b[39m  │\n",
       "├─────┼──────────┼──────────┼──────────┤\n",
       "│ 1   │ 0.644397 │ 0.3973   │ 0.891761 │\n",
       "│ 2   │ 0.168366 │ 0.42091  │ 0.203717 │\n",
       "│ 3   │ 0.256918 │ 0.611832 │ 0.301208 │\n",
       "│ 4   │ 0.588754 │ 0.30716  │ 0.570314 │\n",
       "│ 5   │ 0.289399 │ 0.640386 │ 0.15756  │\n",
       "│ 6   │ 0.516749 │ 0.711247 │ 0.17567  │\n",
       "│ 7   │ 0.939877 │ 0.496064 │ 0.582792 │\n",
       "│ 8   │ 0.971941 │ 0.112961 │ 0.490601 │\n",
       "│ 9   │ 0.845785 │ 0.965688 │ 0.980011 │\n",
       "│ 10  │ 0.877195 │ 0.947745 │ 0.242531 │"
      ]
     },
     "execution_count": 38,
     "metadata": {},
     "output_type": "execute_result"
    }
   ],
   "source": [
    "X1"
   ]
  },
  {
   "cell_type": "code",
   "execution_count": 41,
   "metadata": {},
   "outputs": [
    {
     "data": {
      "text/plain": [
       "10-element Array{Float64,1}:\n",
       " 0.8917613340518542 \n",
       " 0.20371748415671442\n",
       " 0.30120784722212135\n",
       " 0.5703135994018018 \n",
       " 0.15755990979575984\n",
       " 0.17567012336147303\n",
       " 0.5827917795303967 \n",
       " 0.49060105560622724\n",
       " 0.980010723259628  \n",
       " 0.2425310784827912 "
      ]
     },
     "execution_count": 41,
     "metadata": {},
     "output_type": "execute_result"
    }
   ],
   "source": [
    "#X1[ Row , Column ]\n",
    "X1[1:7, 1:2]\n",
    "X1[1:7, :]\n",
    "X1[:, 3]"
   ]
  },
  {
   "cell_type": "code",
   "execution_count": 43,
   "metadata": {},
   "outputs": [
    {
     "data": {
      "text/html": [
       "<table class=\"data-frame\"><thead><tr><th></th><th>x1</th><th>x2</th><th>x3</th></tr><tr><th></th><th>Float64</th><th>Float64</th><th>Float64</th></tr></thead><tbody><p>10 rows × 3 columns</p><tr><th>1</th><td>0.644397</td><td>0.3973</td><td>0.891761</td></tr><tr><th>2</th><td>0.168366</td><td>0.42091</td><td>0.203717</td></tr><tr><th>3</th><td>0.256918</td><td>0.611832</td><td>0.301208</td></tr><tr><th>4</th><td>0.588754</td><td>0.30716</td><td>0.570314</td></tr><tr><th>5</th><td>0.289399</td><td>0.640386</td><td>0.15756</td></tr><tr><th>6</th><td>0.516749</td><td>0.711247</td><td>0.17567</td></tr><tr><th>7</th><td>0.939877</td><td>0.496064</td><td>0.582792</td></tr><tr><th>8</th><td>0.971941</td><td>0.112961</td><td>0.490601</td></tr><tr><th>9</th><td>0.845785</td><td>0.965688</td><td>0.980011</td></tr><tr><th>10</th><td>0.877195</td><td>0.947745</td><td>0.242531</td></tr></tbody></table>"
      ],
      "text/latex": [
       "\\begin{tabular}{r|ccc}\n",
       "\t& x1 & x2 & x3\\\\\n",
       "\t\\hline\n",
       "\t& Float64 & Float64 & Float64\\\\\n",
       "\t\\hline\n",
       "\t1 & 0.644397 & 0.3973 & 0.891761 \\\\\n",
       "\t2 & 0.168366 & 0.42091 & 0.203717 \\\\\n",
       "\t3 & 0.256918 & 0.611832 & 0.301208 \\\\\n",
       "\t4 & 0.588754 & 0.30716 & 0.570314 \\\\\n",
       "\t5 & 0.289399 & 0.640386 & 0.15756 \\\\\n",
       "\t6 & 0.516749 & 0.711247 & 0.17567 \\\\\n",
       "\t7 & 0.939877 & 0.496064 & 0.582792 \\\\\n",
       "\t8 & 0.971941 & 0.112961 & 0.490601 \\\\\n",
       "\t9 & 0.845785 & 0.965688 & 0.980011 \\\\\n",
       "\t10 & 0.877195 & 0.947745 & 0.242531 \\\\\n",
       "\\end{tabular}\n"
      ],
      "text/plain": [
       "10×3 DataFrame\n",
       "│ Row │ x1       │ x2       │ x3       │\n",
       "│     │ \u001b[90mFloat64\u001b[39m  │ \u001b[90mFloat64\u001b[39m  │ \u001b[90mFloat64\u001b[39m  │\n",
       "├─────┼──────────┼──────────┼──────────┤\n",
       "│ 1   │ 0.644397 │ 0.3973   │ 0.891761 │\n",
       "│ 2   │ 0.168366 │ 0.42091  │ 0.203717 │\n",
       "│ 3   │ 0.256918 │ 0.611832 │ 0.301208 │\n",
       "│ 4   │ 0.588754 │ 0.30716  │ 0.570314 │\n",
       "│ 5   │ 0.289399 │ 0.640386 │ 0.15756  │\n",
       "│ 6   │ 0.516749 │ 0.711247 │ 0.17567  │\n",
       "│ 7   │ 0.939877 │ 0.496064 │ 0.582792 │\n",
       "│ 8   │ 0.971941 │ 0.112961 │ 0.490601 │\n",
       "│ 9   │ 0.845785 │ 0.965688 │ 0.980011 │\n",
       "│ 10  │ 0.877195 │ 0.947745 │ 0.242531 │"
      ]
     },
     "execution_count": 43,
     "metadata": {},
     "output_type": "execute_result"
    }
   ],
   "source": [
    "X1[: , Between(:x1, :x3) ]"
   ]
  },
  {
   "cell_type": "code",
   "execution_count": 44,
   "metadata": {},
   "outputs": [
    {
     "data": {
      "text/plain": [
       "10-element Array{Float64,1}:\n",
       " 0.4738094205090009 \n",
       " 0.39051091209921185\n",
       " 0.49564848901331193\n",
       " 0.0224133383218883 \n",
       " 0.5929288933027448 \n",
       " 0.1527754517337172 \n",
       " 0.40487841942894187\n",
       " 0.48108087453222637\n",
       " 0.614932654166245  \n",
       " 0.2582341639759891 "
      ]
     },
     "execution_count": 44,
     "metadata": {},
     "output_type": "execute_result"
    }
   ],
   "source": [
    "X1.x4 = rand(10)"
   ]
  },
  {
   "cell_type": "code",
   "execution_count": 45,
   "metadata": {},
   "outputs": [
    {
     "data": {
      "text/html": [
       "<table class=\"data-frame\"><thead><tr><th></th><th>x1</th><th>x2</th><th>x3</th><th>x4</th></tr><tr><th></th><th>Float64</th><th>Float64</th><th>Float64</th><th>Float64</th></tr></thead><tbody><p>10 rows × 4 columns</p><tr><th>1</th><td>0.644397</td><td>0.3973</td><td>0.891761</td><td>0.473809</td></tr><tr><th>2</th><td>0.168366</td><td>0.42091</td><td>0.203717</td><td>0.390511</td></tr><tr><th>3</th><td>0.256918</td><td>0.611832</td><td>0.301208</td><td>0.495648</td></tr><tr><th>4</th><td>0.588754</td><td>0.30716</td><td>0.570314</td><td>0.0224133</td></tr><tr><th>5</th><td>0.289399</td><td>0.640386</td><td>0.15756</td><td>0.592929</td></tr><tr><th>6</th><td>0.516749</td><td>0.711247</td><td>0.17567</td><td>0.152775</td></tr><tr><th>7</th><td>0.939877</td><td>0.496064</td><td>0.582792</td><td>0.404878</td></tr><tr><th>8</th><td>0.971941</td><td>0.112961</td><td>0.490601</td><td>0.481081</td></tr><tr><th>9</th><td>0.845785</td><td>0.965688</td><td>0.980011</td><td>0.614933</td></tr><tr><th>10</th><td>0.877195</td><td>0.947745</td><td>0.242531</td><td>0.258234</td></tr></tbody></table>"
      ],
      "text/latex": [
       "\\begin{tabular}{r|cccc}\n",
       "\t& x1 & x2 & x3 & x4\\\\\n",
       "\t\\hline\n",
       "\t& Float64 & Float64 & Float64 & Float64\\\\\n",
       "\t\\hline\n",
       "\t1 & 0.644397 & 0.3973 & 0.891761 & 0.473809 \\\\\n",
       "\t2 & 0.168366 & 0.42091 & 0.203717 & 0.390511 \\\\\n",
       "\t3 & 0.256918 & 0.611832 & 0.301208 & 0.495648 \\\\\n",
       "\t4 & 0.588754 & 0.30716 & 0.570314 & 0.0224133 \\\\\n",
       "\t5 & 0.289399 & 0.640386 & 0.15756 & 0.592929 \\\\\n",
       "\t6 & 0.516749 & 0.711247 & 0.17567 & 0.152775 \\\\\n",
       "\t7 & 0.939877 & 0.496064 & 0.582792 & 0.404878 \\\\\n",
       "\t8 & 0.971941 & 0.112961 & 0.490601 & 0.481081 \\\\\n",
       "\t9 & 0.845785 & 0.965688 & 0.980011 & 0.614933 \\\\\n",
       "\t10 & 0.877195 & 0.947745 & 0.242531 & 0.258234 \\\\\n",
       "\\end{tabular}\n"
      ],
      "text/plain": [
       "10×4 DataFrame\n",
       "│ Row │ x1       │ x2       │ x3       │ x4        │\n",
       "│     │ \u001b[90mFloat64\u001b[39m  │ \u001b[90mFloat64\u001b[39m  │ \u001b[90mFloat64\u001b[39m  │ \u001b[90mFloat64\u001b[39m   │\n",
       "├─────┼──────────┼──────────┼──────────┼───────────┤\n",
       "│ 1   │ 0.644397 │ 0.3973   │ 0.891761 │ 0.473809  │\n",
       "│ 2   │ 0.168366 │ 0.42091  │ 0.203717 │ 0.390511  │\n",
       "│ 3   │ 0.256918 │ 0.611832 │ 0.301208 │ 0.495648  │\n",
       "│ 4   │ 0.588754 │ 0.30716  │ 0.570314 │ 0.0224133 │\n",
       "│ 5   │ 0.289399 │ 0.640386 │ 0.15756  │ 0.592929  │\n",
       "│ 6   │ 0.516749 │ 0.711247 │ 0.17567  │ 0.152775  │\n",
       "│ 7   │ 0.939877 │ 0.496064 │ 0.582792 │ 0.404878  │\n",
       "│ 8   │ 0.971941 │ 0.112961 │ 0.490601 │ 0.481081  │\n",
       "│ 9   │ 0.845785 │ 0.965688 │ 0.980011 │ 0.614933  │\n",
       "│ 10  │ 0.877195 │ 0.947745 │ 0.242531 │ 0.258234  │"
      ]
     },
     "execution_count": 45,
     "metadata": {},
     "output_type": "execute_result"
    }
   ],
   "source": [
    "X1"
   ]
  },
  {
   "cell_type": "markdown",
   "metadata": {},
   "source": [
    "## Reading & Writing Files"
   ]
  },
  {
   "cell_type": "code",
   "execution_count": 46,
   "metadata": {},
   "outputs": [],
   "source": [
    "using DataFrames"
   ]
  },
  {
   "cell_type": "code",
   "execution_count": 47,
   "metadata": {},
   "outputs": [
    {
     "data": {
      "text/html": [
       "<table class=\"data-frame\"><thead><tr><th></th><th>A</th><th>B</th><th>C</th></tr><tr><th></th><th>Bool</th><th>Int64</th><th>Char</th></tr></thead><tbody><p>3 rows × 3 columns</p><tr><th>1</th><td>1</td><td>23</td><td>'a'</td></tr><tr><th>2</th><td>0</td><td>45</td><td>'c'</td></tr><tr><th>3</th><td>1</td><td>67</td><td>'b'</td></tr></tbody></table>"
      ],
      "text/latex": [
       "\\begin{tabular}{r|ccc}\n",
       "\t& A & B & C\\\\\n",
       "\t\\hline\n",
       "\t& Bool & Int64 & Char\\\\\n",
       "\t\\hline\n",
       "\t1 & 1 & 23 & 'a' \\\\\n",
       "\t2 & 0 & 45 & 'c' \\\\\n",
       "\t3 & 1 & 67 & 'b' \\\\\n",
       "\\end{tabular}\n"
      ],
      "text/plain": [
       "3×3 DataFrame\n",
       "│ Row │ A    │ B     │ C    │\n",
       "│     │ \u001b[90mBool\u001b[39m │ \u001b[90mInt64\u001b[39m │ \u001b[90mChar\u001b[39m │\n",
       "├─────┼──────┼───────┼──────┤\n",
       "│ 1   │ 1    │ 23    │ 'a'  │\n",
       "│ 2   │ 0    │ 45    │ 'c'  │\n",
       "│ 3   │ 1    │ 67    │ 'b'  │"
      ]
     },
     "execution_count": 47,
     "metadata": {},
     "output_type": "execute_result"
    }
   ],
   "source": [
    "df = DataFrame(A=[true, false, true], B=[23, 45, 67], C=['a', 'c', 'b'])"
   ]
  },
  {
   "cell_type": "code",
   "execution_count": 48,
   "metadata": {},
   "outputs": [
    {
     "name": "stdout",
     "output_type": "stream",
     "text": [
      "\u001b[32m\u001b[1m Resolving\u001b[22m\u001b[39m package versions...\n",
      "\u001b[32m\u001b[1m  Updating\u001b[22m\u001b[39m `C:\\Users\\PC\\.julia\\environments\\v1.3\\Project.toml`\n",
      "\u001b[90m [no changes]\u001b[39m\n",
      "\u001b[32m\u001b[1m  Updating\u001b[22m\u001b[39m `C:\\Users\\PC\\.julia\\environments\\v1.3\\Manifest.toml`\n",
      "\u001b[90m [no changes]\u001b[39m\n"
     ]
    }
   ],
   "source": [
    "Pkg.add(\"CSV\")"
   ]
  },
  {
   "cell_type": "code",
   "execution_count": 49,
   "metadata": {},
   "outputs": [
    {
     "name": "stderr",
     "output_type": "stream",
     "text": [
      "┌ Info: Precompiling CSV [336ed68f-0bac-5ca0-87d4-7b16caf5d00b]\n",
      "└ @ Base loading.jl:1273\n"
     ]
    }
   ],
   "source": [
    "using CSV"
   ]
  },
  {
   "cell_type": "code",
   "execution_count": 50,
   "metadata": {},
   "outputs": [
    {
     "data": {
      "text/plain": [
       "\"df.csv\""
      ]
     },
     "execution_count": 50,
     "metadata": {},
     "output_type": "execute_result"
    }
   ],
   "source": [
    "CSV.write(\"df.csv\", df)"
   ]
  },
  {
   "cell_type": "code",
   "execution_count": 51,
   "metadata": {},
   "outputs": [
    {
     "data": {
      "text/html": [
       "<table class=\"data-frame\"><thead><tr><th></th><th>A</th><th>B</th><th>C</th></tr><tr><th></th><th>Bool</th><th>Int64</th><th>String</th></tr></thead><tbody><p>3 rows × 3 columns</p><tr><th>1</th><td>1</td><td>23</td><td>a</td></tr><tr><th>2</th><td>0</td><td>45</td><td>c</td></tr><tr><th>3</th><td>1</td><td>67</td><td>b</td></tr></tbody></table>"
      ],
      "text/latex": [
       "\\begin{tabular}{r|ccc}\n",
       "\t& A & B & C\\\\\n",
       "\t\\hline\n",
       "\t& Bool & Int64 & String\\\\\n",
       "\t\\hline\n",
       "\t1 & 1 & 23 & a \\\\\n",
       "\t2 & 0 & 45 & c \\\\\n",
       "\t3 & 1 & 67 & b \\\\\n",
       "\\end{tabular}\n"
      ],
      "text/plain": [
       "3×3 DataFrame\n",
       "│ Row │ A    │ B     │ C      │\n",
       "│     │ \u001b[90mBool\u001b[39m │ \u001b[90mInt64\u001b[39m │ \u001b[90mString\u001b[39m │\n",
       "├─────┼──────┼───────┼────────┤\n",
       "│ 1   │ 1    │ 23    │ a      │\n",
       "│ 2   │ 0    │ 45    │ c      │\n",
       "│ 3   │ 1    │ 67    │ b      │"
      ]
     },
     "execution_count": 51,
     "metadata": {},
     "output_type": "execute_result"
    }
   ],
   "source": [
    "new_df = CSV.read(\"df.csv\")"
   ]
  },
  {
   "cell_type": "code",
   "execution_count": 52,
   "metadata": {},
   "outputs": [
    {
     "name": "stdout",
     "output_type": "stream",
     "text": [
      "\u001b[32m\u001b[1m Resolving\u001b[22m\u001b[39m package versions...\n",
      "\u001b[32m\u001b[1m  Updating\u001b[22m\u001b[39m `C:\\Users\\PC\\.julia\\environments\\v1.3\\Project.toml`\n",
      "\u001b[90m [no changes]\u001b[39m\n",
      "\u001b[32m\u001b[1m  Updating\u001b[22m\u001b[39m `C:\\Users\\PC\\.julia\\environments\\v1.3\\Manifest.toml`\n",
      "\u001b[90m [no changes]\u001b[39m\n"
     ]
    }
   ],
   "source": [
    "Pkg.add(\"Serialization\")"
   ]
  },
  {
   "cell_type": "code",
   "execution_count": 53,
   "metadata": {},
   "outputs": [],
   "source": [
    "using Serialization"
   ]
  },
  {
   "cell_type": "code",
   "execution_count": 54,
   "metadata": {},
   "outputs": [],
   "source": [
    "open(\"df.bin\", \"w\") do io\n",
    "    serialize(io, df)\n",
    "end"
   ]
  },
  {
   "cell_type": "code",
   "execution_count": 55,
   "metadata": {},
   "outputs": [
    {
     "data": {
      "text/html": [
       "<table class=\"data-frame\"><thead><tr><th></th><th>A</th><th>B</th><th>C</th></tr><tr><th></th><th>Bool</th><th>Int64</th><th>Char</th></tr></thead><tbody><p>3 rows × 3 columns</p><tr><th>1</th><td>1</td><td>23</td><td>'a'</td></tr><tr><th>2</th><td>0</td><td>45</td><td>'c'</td></tr><tr><th>3</th><td>1</td><td>67</td><td>'b'</td></tr></tbody></table>"
      ],
      "text/latex": [
       "\\begin{tabular}{r|ccc}\n",
       "\t& A & B & C\\\\\n",
       "\t\\hline\n",
       "\t& Bool & Int64 & Char\\\\\n",
       "\t\\hline\n",
       "\t1 & 1 & 23 & 'a' \\\\\n",
       "\t2 & 0 & 45 & 'c' \\\\\n",
       "\t3 & 1 & 67 & 'b' \\\\\n",
       "\\end{tabular}\n"
      ],
      "text/plain": [
       "3×3 DataFrame\n",
       "│ Row │ A    │ B     │ C    │\n",
       "│     │ \u001b[90mBool\u001b[39m │ \u001b[90mInt64\u001b[39m │ \u001b[90mChar\u001b[39m │\n",
       "├─────┼──────┼───────┼──────┤\n",
       "│ 1   │ 1    │ 23    │ 'a'  │\n",
       "│ 2   │ 0    │ 45    │ 'c'  │\n",
       "│ 3   │ 1    │ 67    │ 'b'  │"
      ]
     },
     "execution_count": 55,
     "metadata": {},
     "output_type": "execute_result"
    }
   ],
   "source": [
    "open(deserialize, \"df.bin\")"
   ]
  },
  {
   "cell_type": "code",
   "execution_count": 56,
   "metadata": {},
   "outputs": [
    {
     "name": "stdout",
     "output_type": "stream",
     "text": [
      "\u001b[32m\u001b[1m Resolving\u001b[22m\u001b[39m package versions...\n",
      "\u001b[32m\u001b[1m  Updating\u001b[22m\u001b[39m `C:\\Users\\PC\\.julia\\environments\\v1.3\\Project.toml`\n",
      "\u001b[90m [no changes]\u001b[39m\n",
      "\u001b[32m\u001b[1m  Updating\u001b[22m\u001b[39m `C:\\Users\\PC\\.julia\\environments\\v1.3\\Manifest.toml`\n",
      "\u001b[90m [no changes]\u001b[39m\n"
     ]
    }
   ],
   "source": [
    "Pkg.add(\"JSONTables\")"
   ]
  },
  {
   "cell_type": "code",
   "execution_count": 57,
   "metadata": {},
   "outputs": [],
   "source": [
    "using JSONTables"
   ]
  },
  {
   "cell_type": "code",
   "execution_count": 58,
   "metadata": {},
   "outputs": [
    {
     "data": {
      "text/plain": [
       "80"
      ]
     },
     "execution_count": 58,
     "metadata": {},
     "output_type": "execute_result"
    }
   ],
   "source": [
    "open(io -> arraytable(io, df), \"df.json\", \"w\")"
   ]
  },
  {
   "cell_type": "code",
   "execution_count": 59,
   "metadata": {},
   "outputs": [
    {
     "data": {
      "text/html": [
       "<table class=\"data-frame\"><thead><tr><th></th><th>A</th><th>B</th><th>C</th></tr><tr><th></th><th>Bool</th><th>Int64</th><th>String</th></tr></thead><tbody><p>3 rows × 3 columns</p><tr><th>1</th><td>1</td><td>23</td><td>a</td></tr><tr><th>2</th><td>0</td><td>45</td><td>c</td></tr><tr><th>3</th><td>1</td><td>67</td><td>b</td></tr></tbody></table>"
      ],
      "text/latex": [
       "\\begin{tabular}{r|ccc}\n",
       "\t& A & B & C\\\\\n",
       "\t\\hline\n",
       "\t& Bool & Int64 & String\\\\\n",
       "\t\\hline\n",
       "\t1 & 1 & 23 & a \\\\\n",
       "\t2 & 0 & 45 & c \\\\\n",
       "\t3 & 1 & 67 & b \\\\\n",
       "\\end{tabular}\n"
      ],
      "text/plain": [
       "3×3 DataFrame\n",
       "│ Row │ A    │ B     │ C      │\n",
       "│     │ \u001b[90mBool\u001b[39m │ \u001b[90mInt64\u001b[39m │ \u001b[90mString\u001b[39m │\n",
       "├─────┼──────┼───────┼────────┤\n",
       "│ 1   │ 1    │ 23    │ a      │\n",
       "│ 2   │ 0    │ 45    │ c      │\n",
       "│ 3   │ 1    │ 67    │ b      │"
      ]
     },
     "execution_count": 59,
     "metadata": {},
     "output_type": "execute_result"
    }
   ],
   "source": [
    "open(jsontable, \"df.json\") |> DataFrame"
   ]
  },
  {
   "cell_type": "markdown",
   "metadata": {},
   "source": [
    "## Row & Column Operations"
   ]
  },
  {
   "cell_type": "code",
   "execution_count": 60,
   "metadata": {},
   "outputs": [
    {
     "data": {
      "text/html": [
       "<table class=\"data-frame\"><thead><tr><th></th><th>x1</th><th>x2</th><th>x3</th><th>x4</th></tr><tr><th></th><th>Float64</th><th>Float64</th><th>Float64</th><th>Float64</th></tr></thead><tbody><p>5 rows × 4 columns</p><tr><th>1</th><td>0.553927</td><td>0.910058</td><td>0.234604</td><td>0.00619983</td></tr><tr><th>2</th><td>0.509006</td><td>0.151972</td><td>0.203505</td><td>0.899358</td></tr><tr><th>3</th><td>0.89835</td><td>0.465239</td><td>0.647362</td><td>0.924216</td></tr><tr><th>4</th><td>0.876952</td><td>0.0484358</td><td>0.0293093</td><td>0.150767</td></tr><tr><th>5</th><td>0.604521</td><td>0.224691</td><td>0.681918</td><td>0.0195109</td></tr></tbody></table>"
      ],
      "text/latex": [
       "\\begin{tabular}{r|cccc}\n",
       "\t& x1 & x2 & x3 & x4\\\\\n",
       "\t\\hline\n",
       "\t& Float64 & Float64 & Float64 & Float64\\\\\n",
       "\t\\hline\n",
       "\t1 & 0.553927 & 0.910058 & 0.234604 & 0.00619983 \\\\\n",
       "\t2 & 0.509006 & 0.151972 & 0.203505 & 0.899358 \\\\\n",
       "\t3 & 0.89835 & 0.465239 & 0.647362 & 0.924216 \\\\\n",
       "\t4 & 0.876952 & 0.0484358 & 0.0293093 & 0.150767 \\\\\n",
       "\t5 & 0.604521 & 0.224691 & 0.681918 & 0.0195109 \\\\\n",
       "\\end{tabular}\n"
      ],
      "text/plain": [
       "5×4 DataFrame\n",
       "│ Row │ x1       │ x2        │ x3        │ x4         │\n",
       "│     │ \u001b[90mFloat64\u001b[39m  │ \u001b[90mFloat64\u001b[39m   │ \u001b[90mFloat64\u001b[39m   │ \u001b[90mFloat64\u001b[39m    │\n",
       "├─────┼──────────┼───────────┼───────────┼────────────┤\n",
       "│ 1   │ 0.553927 │ 0.910058  │ 0.234604  │ 0.00619983 │\n",
       "│ 2   │ 0.509006 │ 0.151972  │ 0.203505  │ 0.899358   │\n",
       "│ 3   │ 0.89835  │ 0.465239  │ 0.647362  │ 0.924216   │\n",
       "│ 4   │ 0.876952 │ 0.0484358 │ 0.0293093 │ 0.150767   │\n",
       "│ 5   │ 0.604521 │ 0.224691  │ 0.681918  │ 0.0195109  │"
      ]
     },
     "execution_count": 60,
     "metadata": {},
     "output_type": "execute_result"
    }
   ],
   "source": [
    "M1 = DataFrame(rand(5,4))"
   ]
  },
  {
   "cell_type": "code",
   "execution_count": 61,
   "metadata": {},
   "outputs": [
    {
     "data": {
      "text/html": [
       "<table class=\"data-frame\"><thead><tr><th></th><th>c1</th><th>x2</th><th>x3</th><th>x4</th></tr><tr><th></th><th>Float64</th><th>Float64</th><th>Float64</th><th>Float64</th></tr></thead><tbody><p>5 rows × 4 columns</p><tr><th>1</th><td>0.553927</td><td>0.910058</td><td>0.234604</td><td>0.00619983</td></tr><tr><th>2</th><td>0.509006</td><td>0.151972</td><td>0.203505</td><td>0.899358</td></tr><tr><th>3</th><td>0.89835</td><td>0.465239</td><td>0.647362</td><td>0.924216</td></tr><tr><th>4</th><td>0.876952</td><td>0.0484358</td><td>0.0293093</td><td>0.150767</td></tr><tr><th>5</th><td>0.604521</td><td>0.224691</td><td>0.681918</td><td>0.0195109</td></tr></tbody></table>"
      ],
      "text/latex": [
       "\\begin{tabular}{r|cccc}\n",
       "\t& c1 & x2 & x3 & x4\\\\\n",
       "\t\\hline\n",
       "\t& Float64 & Float64 & Float64 & Float64\\\\\n",
       "\t\\hline\n",
       "\t1 & 0.553927 & 0.910058 & 0.234604 & 0.00619983 \\\\\n",
       "\t2 & 0.509006 & 0.151972 & 0.203505 & 0.899358 \\\\\n",
       "\t3 & 0.89835 & 0.465239 & 0.647362 & 0.924216 \\\\\n",
       "\t4 & 0.876952 & 0.0484358 & 0.0293093 & 0.150767 \\\\\n",
       "\t5 & 0.604521 & 0.224691 & 0.681918 & 0.0195109 \\\\\n",
       "\\end{tabular}\n"
      ],
      "text/plain": [
       "5×4 DataFrame\n",
       "│ Row │ c1       │ x2        │ x3        │ x4         │\n",
       "│     │ \u001b[90mFloat64\u001b[39m  │ \u001b[90mFloat64\u001b[39m   │ \u001b[90mFloat64\u001b[39m   │ \u001b[90mFloat64\u001b[39m    │\n",
       "├─────┼──────────┼───────────┼───────────┼────────────┤\n",
       "│ 1   │ 0.553927 │ 0.910058  │ 0.234604  │ 0.00619983 │\n",
       "│ 2   │ 0.509006 │ 0.151972  │ 0.203505  │ 0.899358   │\n",
       "│ 3   │ 0.89835  │ 0.465239  │ 0.647362  │ 0.924216   │\n",
       "│ 4   │ 0.876952 │ 0.0484358 │ 0.0293093 │ 0.150767   │\n",
       "│ 5   │ 0.604521 │ 0.224691  │ 0.681918  │ 0.0195109  │"
      ]
     },
     "execution_count": 61,
     "metadata": {},
     "output_type": "execute_result"
    }
   ],
   "source": [
    "rename(M1, :x1 => :c1)"
   ]
  },
  {
   "cell_type": "code",
   "execution_count": 62,
   "metadata": {},
   "outputs": [
    {
     "data": {
      "text/html": [
       "<table class=\"data-frame\"><thead><tr><th></th><th>x1</th><th>x2</th><th>x3</th><th>x4</th></tr><tr><th></th><th>Float64</th><th>Float64</th><th>Float64</th><th>Float64</th></tr></thead><tbody><p>5 rows × 4 columns</p><tr><th>1</th><td>0.553927</td><td>0.910058</td><td>0.234604</td><td>0.00619983</td></tr><tr><th>2</th><td>0.509006</td><td>0.151972</td><td>0.203505</td><td>0.899358</td></tr><tr><th>3</th><td>0.89835</td><td>0.465239</td><td>0.647362</td><td>0.924216</td></tr><tr><th>4</th><td>0.876952</td><td>0.0484358</td><td>0.0293093</td><td>0.150767</td></tr><tr><th>5</th><td>0.604521</td><td>0.224691</td><td>0.681918</td><td>0.0195109</td></tr></tbody></table>"
      ],
      "text/latex": [
       "\\begin{tabular}{r|cccc}\n",
       "\t& x1 & x2 & x3 & x4\\\\\n",
       "\t\\hline\n",
       "\t& Float64 & Float64 & Float64 & Float64\\\\\n",
       "\t\\hline\n",
       "\t1 & 0.553927 & 0.910058 & 0.234604 & 0.00619983 \\\\\n",
       "\t2 & 0.509006 & 0.151972 & 0.203505 & 0.899358 \\\\\n",
       "\t3 & 0.89835 & 0.465239 & 0.647362 & 0.924216 \\\\\n",
       "\t4 & 0.876952 & 0.0484358 & 0.0293093 & 0.150767 \\\\\n",
       "\t5 & 0.604521 & 0.224691 & 0.681918 & 0.0195109 \\\\\n",
       "\\end{tabular}\n"
      ],
      "text/plain": [
       "5×4 DataFrame\n",
       "│ Row │ x1       │ x2        │ x3        │ x4         │\n",
       "│     │ \u001b[90mFloat64\u001b[39m  │ \u001b[90mFloat64\u001b[39m   │ \u001b[90mFloat64\u001b[39m   │ \u001b[90mFloat64\u001b[39m    │\n",
       "├─────┼──────────┼───────────┼───────────┼────────────┤\n",
       "│ 1   │ 0.553927 │ 0.910058  │ 0.234604  │ 0.00619983 │\n",
       "│ 2   │ 0.509006 │ 0.151972  │ 0.203505  │ 0.899358   │\n",
       "│ 3   │ 0.89835  │ 0.465239  │ 0.647362  │ 0.924216   │\n",
       "│ 4   │ 0.876952 │ 0.0484358 │ 0.0293093 │ 0.150767   │\n",
       "│ 5   │ 0.604521 │ 0.224691  │ 0.681918  │ 0.0195109  │"
      ]
     },
     "execution_count": 62,
     "metadata": {},
     "output_type": "execute_result"
    }
   ],
   "source": [
    "M1"
   ]
  },
  {
   "cell_type": "code",
   "execution_count": 63,
   "metadata": {},
   "outputs": [
    {
     "data": {
      "text/html": [
       "<table class=\"data-frame\"><thead><tr><th></th><th>c1</th><th>x2</th><th>x3</th><th>x4</th></tr><tr><th></th><th>Float64</th><th>Float64</th><th>Float64</th><th>Float64</th></tr></thead><tbody><p>5 rows × 4 columns</p><tr><th>1</th><td>0.553927</td><td>0.910058</td><td>0.234604</td><td>0.00619983</td></tr><tr><th>2</th><td>0.509006</td><td>0.151972</td><td>0.203505</td><td>0.899358</td></tr><tr><th>3</th><td>0.89835</td><td>0.465239</td><td>0.647362</td><td>0.924216</td></tr><tr><th>4</th><td>0.876952</td><td>0.0484358</td><td>0.0293093</td><td>0.150767</td></tr><tr><th>5</th><td>0.604521</td><td>0.224691</td><td>0.681918</td><td>0.0195109</td></tr></tbody></table>"
      ],
      "text/latex": [
       "\\begin{tabular}{r|cccc}\n",
       "\t& c1 & x2 & x3 & x4\\\\\n",
       "\t\\hline\n",
       "\t& Float64 & Float64 & Float64 & Float64\\\\\n",
       "\t\\hline\n",
       "\t1 & 0.553927 & 0.910058 & 0.234604 & 0.00619983 \\\\\n",
       "\t2 & 0.509006 & 0.151972 & 0.203505 & 0.899358 \\\\\n",
       "\t3 & 0.89835 & 0.465239 & 0.647362 & 0.924216 \\\\\n",
       "\t4 & 0.876952 & 0.0484358 & 0.0293093 & 0.150767 \\\\\n",
       "\t5 & 0.604521 & 0.224691 & 0.681918 & 0.0195109 \\\\\n",
       "\\end{tabular}\n"
      ],
      "text/plain": [
       "5×4 DataFrame\n",
       "│ Row │ c1       │ x2        │ x3        │ x4         │\n",
       "│     │ \u001b[90mFloat64\u001b[39m  │ \u001b[90mFloat64\u001b[39m   │ \u001b[90mFloat64\u001b[39m   │ \u001b[90mFloat64\u001b[39m    │\n",
       "├─────┼──────────┼───────────┼───────────┼────────────┤\n",
       "│ 1   │ 0.553927 │ 0.910058  │ 0.234604  │ 0.00619983 │\n",
       "│ 2   │ 0.509006 │ 0.151972  │ 0.203505  │ 0.899358   │\n",
       "│ 3   │ 0.89835  │ 0.465239  │ 0.647362  │ 0.924216   │\n",
       "│ 4   │ 0.876952 │ 0.0484358 │ 0.0293093 │ 0.150767   │\n",
       "│ 5   │ 0.604521 │ 0.224691  │ 0.681918  │ 0.0195109  │"
      ]
     },
     "execution_count": 63,
     "metadata": {},
     "output_type": "execute_result"
    }
   ],
   "source": [
    "rename!(M1, :x1 => :c1)"
   ]
  },
  {
   "cell_type": "code",
   "execution_count": 64,
   "metadata": {},
   "outputs": [
    {
     "data": {
      "text/html": [
       "<table class=\"data-frame\"><thead><tr><th></th><th>c1</th><th>x2</th><th>x3</th><th>x4</th></tr><tr><th></th><th>Float64</th><th>Float64</th><th>Float64</th><th>Float64</th></tr></thead><tbody><p>5 rows × 4 columns</p><tr><th>1</th><td>0.553927</td><td>0.910058</td><td>0.234604</td><td>0.00619983</td></tr><tr><th>2</th><td>0.509006</td><td>0.151972</td><td>0.203505</td><td>0.899358</td></tr><tr><th>3</th><td>0.89835</td><td>0.465239</td><td>0.647362</td><td>0.924216</td></tr><tr><th>4</th><td>0.876952</td><td>0.0484358</td><td>0.0293093</td><td>0.150767</td></tr><tr><th>5</th><td>0.604521</td><td>0.224691</td><td>0.681918</td><td>0.0195109</td></tr></tbody></table>"
      ],
      "text/latex": [
       "\\begin{tabular}{r|cccc}\n",
       "\t& c1 & x2 & x3 & x4\\\\\n",
       "\t\\hline\n",
       "\t& Float64 & Float64 & Float64 & Float64\\\\\n",
       "\t\\hline\n",
       "\t1 & 0.553927 & 0.910058 & 0.234604 & 0.00619983 \\\\\n",
       "\t2 & 0.509006 & 0.151972 & 0.203505 & 0.899358 \\\\\n",
       "\t3 & 0.89835 & 0.465239 & 0.647362 & 0.924216 \\\\\n",
       "\t4 & 0.876952 & 0.0484358 & 0.0293093 & 0.150767 \\\\\n",
       "\t5 & 0.604521 & 0.224691 & 0.681918 & 0.0195109 \\\\\n",
       "\\end{tabular}\n"
      ],
      "text/plain": [
       "5×4 DataFrame\n",
       "│ Row │ c1       │ x2        │ x3        │ x4         │\n",
       "│     │ \u001b[90mFloat64\u001b[39m  │ \u001b[90mFloat64\u001b[39m   │ \u001b[90mFloat64\u001b[39m   │ \u001b[90mFloat64\u001b[39m    │\n",
       "├─────┼──────────┼───────────┼───────────┼────────────┤\n",
       "│ 1   │ 0.553927 │ 0.910058  │ 0.234604  │ 0.00619983 │\n",
       "│ 2   │ 0.509006 │ 0.151972  │ 0.203505  │ 0.899358   │\n",
       "│ 3   │ 0.89835  │ 0.465239  │ 0.647362  │ 0.924216   │\n",
       "│ 4   │ 0.876952 │ 0.0484358 │ 0.0293093 │ 0.150767   │\n",
       "│ 5   │ 0.604521 │ 0.224691  │ 0.681918  │ 0.0195109  │"
      ]
     },
     "execution_count": 64,
     "metadata": {},
     "output_type": "execute_result"
    }
   ],
   "source": [
    "M1"
   ]
  },
  {
   "cell_type": "code",
   "execution_count": 65,
   "metadata": {},
   "outputs": [
    {
     "data": {
      "text/html": [
       "<table class=\"data-frame\"><thead><tr><th></th><th>c1</th><th>c2</th><th>c3</th><th>c4</th></tr><tr><th></th><th>Float64</th><th>Float64</th><th>Float64</th><th>Float64</th></tr></thead><tbody><p>5 rows × 4 columns</p><tr><th>1</th><td>0.553927</td><td>0.910058</td><td>0.234604</td><td>0.00619983</td></tr><tr><th>2</th><td>0.509006</td><td>0.151972</td><td>0.203505</td><td>0.899358</td></tr><tr><th>3</th><td>0.89835</td><td>0.465239</td><td>0.647362</td><td>0.924216</td></tr><tr><th>4</th><td>0.876952</td><td>0.0484358</td><td>0.0293093</td><td>0.150767</td></tr><tr><th>5</th><td>0.604521</td><td>0.224691</td><td>0.681918</td><td>0.0195109</td></tr></tbody></table>"
      ],
      "text/latex": [
       "\\begin{tabular}{r|cccc}\n",
       "\t& c1 & c2 & c3 & c4\\\\\n",
       "\t\\hline\n",
       "\t& Float64 & Float64 & Float64 & Float64\\\\\n",
       "\t\\hline\n",
       "\t1 & 0.553927 & 0.910058 & 0.234604 & 0.00619983 \\\\\n",
       "\t2 & 0.509006 & 0.151972 & 0.203505 & 0.899358 \\\\\n",
       "\t3 & 0.89835 & 0.465239 & 0.647362 & 0.924216 \\\\\n",
       "\t4 & 0.876952 & 0.0484358 & 0.0293093 & 0.150767 \\\\\n",
       "\t5 & 0.604521 & 0.224691 & 0.681918 & 0.0195109 \\\\\n",
       "\\end{tabular}\n"
      ],
      "text/plain": [
       "5×4 DataFrame\n",
       "│ Row │ c1       │ c2        │ c3        │ c4         │\n",
       "│     │ \u001b[90mFloat64\u001b[39m  │ \u001b[90mFloat64\u001b[39m   │ \u001b[90mFloat64\u001b[39m   │ \u001b[90mFloat64\u001b[39m    │\n",
       "├─────┼──────────┼───────────┼───────────┼────────────┤\n",
       "│ 1   │ 0.553927 │ 0.910058  │ 0.234604  │ 0.00619983 │\n",
       "│ 2   │ 0.509006 │ 0.151972  │ 0.203505  │ 0.899358   │\n",
       "│ 3   │ 0.89835  │ 0.465239  │ 0.647362  │ 0.924216   │\n",
       "│ 4   │ 0.876952 │ 0.0484358 │ 0.0293093 │ 0.150767   │\n",
       "│ 5   │ 0.604521 │ 0.224691  │ 0.681918  │ 0.0195109  │"
      ]
     },
     "execution_count": 65,
     "metadata": {},
     "output_type": "execute_result"
    }
   ],
   "source": [
    "rename(M1, [:c1, :c2, :c3, :c4])"
   ]
  },
  {
   "cell_type": "code",
   "execution_count": 66,
   "metadata": {},
   "outputs": [
    {
     "data": {
      "text/html": [
       "<table class=\"data-frame\"><thead><tr><th></th><th>a</th><th>b</th><th>c</th><th>d</th></tr><tr><th></th><th>Float64</th><th>Float64</th><th>Float64</th><th>Float64</th></tr></thead><tbody><p>5 rows × 4 columns</p><tr><th>1</th><td>0.553927</td><td>0.910058</td><td>0.234604</td><td>0.00619983</td></tr><tr><th>2</th><td>0.509006</td><td>0.151972</td><td>0.203505</td><td>0.899358</td></tr><tr><th>3</th><td>0.89835</td><td>0.465239</td><td>0.647362</td><td>0.924216</td></tr><tr><th>4</th><td>0.876952</td><td>0.0484358</td><td>0.0293093</td><td>0.150767</td></tr><tr><th>5</th><td>0.604521</td><td>0.224691</td><td>0.681918</td><td>0.0195109</td></tr></tbody></table>"
      ],
      "text/latex": [
       "\\begin{tabular}{r|cccc}\n",
       "\t& a & b & c & d\\\\\n",
       "\t\\hline\n",
       "\t& Float64 & Float64 & Float64 & Float64\\\\\n",
       "\t\\hline\n",
       "\t1 & 0.553927 & 0.910058 & 0.234604 & 0.00619983 \\\\\n",
       "\t2 & 0.509006 & 0.151972 & 0.203505 & 0.899358 \\\\\n",
       "\t3 & 0.89835 & 0.465239 & 0.647362 & 0.924216 \\\\\n",
       "\t4 & 0.876952 & 0.0484358 & 0.0293093 & 0.150767 \\\\\n",
       "\t5 & 0.604521 & 0.224691 & 0.681918 & 0.0195109 \\\\\n",
       "\\end{tabular}\n"
      ],
      "text/plain": [
       "5×4 DataFrame\n",
       "│ Row │ a        │ b         │ c         │ d          │\n",
       "│     │ \u001b[90mFloat64\u001b[39m  │ \u001b[90mFloat64\u001b[39m   │ \u001b[90mFloat64\u001b[39m   │ \u001b[90mFloat64\u001b[39m    │\n",
       "├─────┼──────────┼───────────┼───────────┼────────────┤\n",
       "│ 1   │ 0.553927 │ 0.910058  │ 0.234604  │ 0.00619983 │\n",
       "│ 2   │ 0.509006 │ 0.151972  │ 0.203505  │ 0.899358   │\n",
       "│ 3   │ 0.89835  │ 0.465239  │ 0.647362  │ 0.924216   │\n",
       "│ 4   │ 0.876952 │ 0.0484358 │ 0.0293093 │ 0.150767   │\n",
       "│ 5   │ 0.604521 │ 0.224691  │ 0.681918  │ 0.0195109  │"
      ]
     },
     "execution_count": 66,
     "metadata": {},
     "output_type": "execute_result"
    }
   ],
   "source": [
    "rename(M1, string.('a':'d'))"
   ]
  },
  {
   "cell_type": "code",
   "execution_count": 67,
   "metadata": {},
   "outputs": [
    {
     "data": {
      "text/html": [
       "<table class=\"data-frame\"><thead><tr><th></th><th>x1</th><th>x2</th><th>x3</th><th>x4</th></tr><tr><th></th><th>Float64</th><th>Float64</th><th>Float64</th><th>Float64</th></tr></thead><tbody><p>5 rows × 4 columns</p><tr><th>1</th><td>0.433834</td><td>0.992305</td><td>0.392774</td><td>0.911343</td></tr><tr><th>2</th><td>0.690862</td><td>0.951658</td><td>0.262878</td><td>0.350846</td></tr><tr><th>3</th><td>0.398278</td><td>0.136287</td><td>0.541587</td><td>0.279356</td></tr><tr><th>4</th><td>0.664437</td><td>0.975704</td><td>0.656702</td><td>0.79333</td></tr><tr><th>5</th><td>0.238815</td><td>0.40467</td><td>0.16808</td><td>0.169415</td></tr></tbody></table>"
      ],
      "text/latex": [
       "\\begin{tabular}{r|cccc}\n",
       "\t& x1 & x2 & x3 & x4\\\\\n",
       "\t\\hline\n",
       "\t& Float64 & Float64 & Float64 & Float64\\\\\n",
       "\t\\hline\n",
       "\t1 & 0.433834 & 0.992305 & 0.392774 & 0.911343 \\\\\n",
       "\t2 & 0.690862 & 0.951658 & 0.262878 & 0.350846 \\\\\n",
       "\t3 & 0.398278 & 0.136287 & 0.541587 & 0.279356 \\\\\n",
       "\t4 & 0.664437 & 0.975704 & 0.656702 & 0.79333 \\\\\n",
       "\t5 & 0.238815 & 0.40467 & 0.16808 & 0.169415 \\\\\n",
       "\\end{tabular}\n"
      ],
      "text/plain": [
       "5×4 DataFrame\n",
       "│ Row │ x1       │ x2       │ x3       │ x4       │\n",
       "│     │ \u001b[90mFloat64\u001b[39m  │ \u001b[90mFloat64\u001b[39m  │ \u001b[90mFloat64\u001b[39m  │ \u001b[90mFloat64\u001b[39m  │\n",
       "├─────┼──────────┼──────────┼──────────┼──────────┤\n",
       "│ 1   │ 0.433834 │ 0.992305 │ 0.392774 │ 0.911343 │\n",
       "│ 2   │ 0.690862 │ 0.951658 │ 0.262878 │ 0.350846 │\n",
       "│ 3   │ 0.398278 │ 0.136287 │ 0.541587 │ 0.279356 │\n",
       "│ 4   │ 0.664437 │ 0.975704 │ 0.656702 │ 0.79333  │\n",
       "│ 5   │ 0.238815 │ 0.40467  │ 0.16808  │ 0.169415 │"
      ]
     },
     "execution_count": 67,
     "metadata": {},
     "output_type": "execute_result"
    }
   ],
   "source": [
    "M2 = DataFrame(rand(5,4))"
   ]
  },
  {
   "cell_type": "code",
   "execution_count": 69,
   "metadata": {},
   "outputs": [
    {
     "data": {
      "text/html": [
       "<table class=\"data-frame\"><thead><tr><th></th><th>c1</th><th>x2</th><th>x3</th><th>x4</th><th>x1</th><th>x2_1</th><th>x3_1</th><th>x4_1</th></tr><tr><th></th><th>Float64</th><th>Float64</th><th>Float64</th><th>Float64</th><th>Float64</th><th>Float64</th><th>Float64</th><th>Float64</th></tr></thead><tbody><p>5 rows × 8 columns</p><tr><th>1</th><td>0.553927</td><td>0.910058</td><td>0.234604</td><td>0.00619983</td><td>0.433834</td><td>0.992305</td><td>0.392774</td><td>0.911343</td></tr><tr><th>2</th><td>0.509006</td><td>0.151972</td><td>0.203505</td><td>0.899358</td><td>0.690862</td><td>0.951658</td><td>0.262878</td><td>0.350846</td></tr><tr><th>3</th><td>0.89835</td><td>0.465239</td><td>0.647362</td><td>0.924216</td><td>0.398278</td><td>0.136287</td><td>0.541587</td><td>0.279356</td></tr><tr><th>4</th><td>0.876952</td><td>0.0484358</td><td>0.0293093</td><td>0.150767</td><td>0.664437</td><td>0.975704</td><td>0.656702</td><td>0.79333</td></tr><tr><th>5</th><td>0.604521</td><td>0.224691</td><td>0.681918</td><td>0.0195109</td><td>0.238815</td><td>0.40467</td><td>0.16808</td><td>0.169415</td></tr></tbody></table>"
      ],
      "text/latex": [
       "\\begin{tabular}{r|cccccccc}\n",
       "\t& c1 & x2 & x3 & x4 & x1 & x2\\_1 & x3\\_1 & x4\\_1\\\\\n",
       "\t\\hline\n",
       "\t& Float64 & Float64 & Float64 & Float64 & Float64 & Float64 & Float64 & Float64\\\\\n",
       "\t\\hline\n",
       "\t1 & 0.553927 & 0.910058 & 0.234604 & 0.00619983 & 0.433834 & 0.992305 & 0.392774 & 0.911343 \\\\\n",
       "\t2 & 0.509006 & 0.151972 & 0.203505 & 0.899358 & 0.690862 & 0.951658 & 0.262878 & 0.350846 \\\\\n",
       "\t3 & 0.89835 & 0.465239 & 0.647362 & 0.924216 & 0.398278 & 0.136287 & 0.541587 & 0.279356 \\\\\n",
       "\t4 & 0.876952 & 0.0484358 & 0.0293093 & 0.150767 & 0.664437 & 0.975704 & 0.656702 & 0.79333 \\\\\n",
       "\t5 & 0.604521 & 0.224691 & 0.681918 & 0.0195109 & 0.238815 & 0.40467 & 0.16808 & 0.169415 \\\\\n",
       "\\end{tabular}\n"
      ],
      "text/plain": [
       "5×8 DataFrame. Omitted printing of 2 columns\n",
       "│ Row │ c1       │ x2        │ x3        │ x4         │ x1       │ x2_1     │\n",
       "│     │ \u001b[90mFloat64\u001b[39m  │ \u001b[90mFloat64\u001b[39m   │ \u001b[90mFloat64\u001b[39m   │ \u001b[90mFloat64\u001b[39m    │ \u001b[90mFloat64\u001b[39m  │ \u001b[90mFloat64\u001b[39m  │\n",
       "├─────┼──────────┼───────────┼───────────┼────────────┼──────────┼──────────┤\n",
       "│ 1   │ 0.553927 │ 0.910058  │ 0.234604  │ 0.00619983 │ 0.433834 │ 0.992305 │\n",
       "│ 2   │ 0.509006 │ 0.151972  │ 0.203505  │ 0.899358   │ 0.690862 │ 0.951658 │\n",
       "│ 3   │ 0.89835  │ 0.465239  │ 0.647362  │ 0.924216   │ 0.398278 │ 0.136287 │\n",
       "│ 4   │ 0.876952 │ 0.0484358 │ 0.0293093 │ 0.150767   │ 0.664437 │ 0.975704 │\n",
       "│ 5   │ 0.604521 │ 0.224691  │ 0.681918  │ 0.0195109  │ 0.238815 │ 0.40467  │"
      ]
     },
     "execution_count": 69,
     "metadata": {},
     "output_type": "execute_result"
    }
   ],
   "source": [
    "hcat(M1, M2, makeunique=true)"
   ]
  },
  {
   "cell_type": "code",
   "execution_count": 73,
   "metadata": {},
   "outputs": [
    {
     "data": {
      "text/html": [
       "<table class=\"data-frame\"><thead><tr><th></th><th>x1</th><th>x2</th><th>x3</th><th>x4</th></tr><tr><th></th><th>Float64</th><th>Float64</th><th>Float64</th><th>Float64</th></tr></thead><tbody><p>5 rows × 4 columns</p><tr><th>1</th><td>0.553927</td><td>0.910058</td><td>0.234604</td><td>0.00619983</td></tr><tr><th>2</th><td>0.509006</td><td>0.151972</td><td>0.203505</td><td>0.899358</td></tr><tr><th>3</th><td>0.89835</td><td>0.465239</td><td>0.647362</td><td>0.924216</td></tr><tr><th>4</th><td>0.876952</td><td>0.0484358</td><td>0.0293093</td><td>0.150767</td></tr><tr><th>5</th><td>0.604521</td><td>0.224691</td><td>0.681918</td><td>0.0195109</td></tr></tbody></table>"
      ],
      "text/latex": [
       "\\begin{tabular}{r|cccc}\n",
       "\t& x1 & x2 & x3 & x4\\\\\n",
       "\t\\hline\n",
       "\t& Float64 & Float64 & Float64 & Float64\\\\\n",
       "\t\\hline\n",
       "\t1 & 0.553927 & 0.910058 & 0.234604 & 0.00619983 \\\\\n",
       "\t2 & 0.509006 & 0.151972 & 0.203505 & 0.899358 \\\\\n",
       "\t3 & 0.89835 & 0.465239 & 0.647362 & 0.924216 \\\\\n",
       "\t4 & 0.876952 & 0.0484358 & 0.0293093 & 0.150767 \\\\\n",
       "\t5 & 0.604521 & 0.224691 & 0.681918 & 0.0195109 \\\\\n",
       "\\end{tabular}\n"
      ],
      "text/plain": [
       "5×4 DataFrame\n",
       "│ Row │ x1       │ x2        │ x3        │ x4         │\n",
       "│     │ \u001b[90mFloat64\u001b[39m  │ \u001b[90mFloat64\u001b[39m   │ \u001b[90mFloat64\u001b[39m   │ \u001b[90mFloat64\u001b[39m    │\n",
       "├─────┼──────────┼───────────┼───────────┼────────────┤\n",
       "│ 1   │ 0.553927 │ 0.910058  │ 0.234604  │ 0.00619983 │\n",
       "│ 2   │ 0.509006 │ 0.151972  │ 0.203505  │ 0.899358   │\n",
       "│ 3   │ 0.89835  │ 0.465239  │ 0.647362  │ 0.924216   │\n",
       "│ 4   │ 0.876952 │ 0.0484358 │ 0.0293093 │ 0.150767   │\n",
       "│ 5   │ 0.604521 │ 0.224691  │ 0.681918  │ 0.0195109  │"
      ]
     },
     "execution_count": 73,
     "metadata": {},
     "output_type": "execute_result"
    }
   ],
   "source": [
    "#vcat(M1, M2)\n",
    "rename!(M1, :c1=>:x1)"
   ]
  },
  {
   "cell_type": "code",
   "execution_count": 74,
   "metadata": {},
   "outputs": [
    {
     "data": {
      "text/html": [
       "<table class=\"data-frame\"><thead><tr><th></th><th>x1</th><th>x2</th><th>x3</th><th>x4</th></tr><tr><th></th><th>Float64</th><th>Float64</th><th>Float64</th><th>Float64</th></tr></thead><tbody><p>10 rows × 4 columns</p><tr><th>1</th><td>0.553927</td><td>0.910058</td><td>0.234604</td><td>0.00619983</td></tr><tr><th>2</th><td>0.509006</td><td>0.151972</td><td>0.203505</td><td>0.899358</td></tr><tr><th>3</th><td>0.89835</td><td>0.465239</td><td>0.647362</td><td>0.924216</td></tr><tr><th>4</th><td>0.876952</td><td>0.0484358</td><td>0.0293093</td><td>0.150767</td></tr><tr><th>5</th><td>0.604521</td><td>0.224691</td><td>0.681918</td><td>0.0195109</td></tr><tr><th>6</th><td>0.433834</td><td>0.992305</td><td>0.392774</td><td>0.911343</td></tr><tr><th>7</th><td>0.690862</td><td>0.951658</td><td>0.262878</td><td>0.350846</td></tr><tr><th>8</th><td>0.398278</td><td>0.136287</td><td>0.541587</td><td>0.279356</td></tr><tr><th>9</th><td>0.664437</td><td>0.975704</td><td>0.656702</td><td>0.79333</td></tr><tr><th>10</th><td>0.238815</td><td>0.40467</td><td>0.16808</td><td>0.169415</td></tr></tbody></table>"
      ],
      "text/latex": [
       "\\begin{tabular}{r|cccc}\n",
       "\t& x1 & x2 & x3 & x4\\\\\n",
       "\t\\hline\n",
       "\t& Float64 & Float64 & Float64 & Float64\\\\\n",
       "\t\\hline\n",
       "\t1 & 0.553927 & 0.910058 & 0.234604 & 0.00619983 \\\\\n",
       "\t2 & 0.509006 & 0.151972 & 0.203505 & 0.899358 \\\\\n",
       "\t3 & 0.89835 & 0.465239 & 0.647362 & 0.924216 \\\\\n",
       "\t4 & 0.876952 & 0.0484358 & 0.0293093 & 0.150767 \\\\\n",
       "\t5 & 0.604521 & 0.224691 & 0.681918 & 0.0195109 \\\\\n",
       "\t6 & 0.433834 & 0.992305 & 0.392774 & 0.911343 \\\\\n",
       "\t7 & 0.690862 & 0.951658 & 0.262878 & 0.350846 \\\\\n",
       "\t8 & 0.398278 & 0.136287 & 0.541587 & 0.279356 \\\\\n",
       "\t9 & 0.664437 & 0.975704 & 0.656702 & 0.79333 \\\\\n",
       "\t10 & 0.238815 & 0.40467 & 0.16808 & 0.169415 \\\\\n",
       "\\end{tabular}\n"
      ],
      "text/plain": [
       "10×4 DataFrame\n",
       "│ Row │ x1       │ x2        │ x3        │ x4         │\n",
       "│     │ \u001b[90mFloat64\u001b[39m  │ \u001b[90mFloat64\u001b[39m   │ \u001b[90mFloat64\u001b[39m   │ \u001b[90mFloat64\u001b[39m    │\n",
       "├─────┼──────────┼───────────┼───────────┼────────────┤\n",
       "│ 1   │ 0.553927 │ 0.910058  │ 0.234604  │ 0.00619983 │\n",
       "│ 2   │ 0.509006 │ 0.151972  │ 0.203505  │ 0.899358   │\n",
       "│ 3   │ 0.89835  │ 0.465239  │ 0.647362  │ 0.924216   │\n",
       "│ 4   │ 0.876952 │ 0.0484358 │ 0.0293093 │ 0.150767   │\n",
       "│ 5   │ 0.604521 │ 0.224691  │ 0.681918  │ 0.0195109  │\n",
       "│ 6   │ 0.433834 │ 0.992305  │ 0.392774  │ 0.911343   │\n",
       "│ 7   │ 0.690862 │ 0.951658  │ 0.262878  │ 0.350846   │\n",
       "│ 8   │ 0.398278 │ 0.136287  │ 0.541587  │ 0.279356   │\n",
       "│ 9   │ 0.664437 │ 0.975704  │ 0.656702  │ 0.79333    │\n",
       "│ 10  │ 0.238815 │ 0.40467   │ 0.16808   │ 0.169415   │"
      ]
     },
     "execution_count": 74,
     "metadata": {},
     "output_type": "execute_result"
    }
   ],
   "source": [
    "vcat(M1, M2)"
   ]
  },
  {
   "cell_type": "code",
   "execution_count": 75,
   "metadata": {},
   "outputs": [
    {
     "data": {
      "text/html": [
       "<table class=\"data-frame\"><thead><tr><th></th><th>x1</th><th>x2</th><th>x3</th><th>x4</th><th>A</th></tr><tr><th></th><th>Float64</th><th>Float64</th><th>Float64</th><th>Float64</th><th>Int64</th></tr></thead><tbody><p>5 rows × 5 columns</p><tr><th>1</th><td>0.553927</td><td>0.910058</td><td>0.234604</td><td>0.00619983</td><td>1</td></tr><tr><th>2</th><td>0.509006</td><td>0.151972</td><td>0.203505</td><td>0.899358</td><td>2</td></tr><tr><th>3</th><td>0.89835</td><td>0.465239</td><td>0.647362</td><td>0.924216</td><td>3</td></tr><tr><th>4</th><td>0.876952</td><td>0.0484358</td><td>0.0293093</td><td>0.150767</td><td>4</td></tr><tr><th>5</th><td>0.604521</td><td>0.224691</td><td>0.681918</td><td>0.0195109</td><td>5</td></tr></tbody></table>"
      ],
      "text/latex": [
       "\\begin{tabular}{r|ccccc}\n",
       "\t& x1 & x2 & x3 & x4 & A\\\\\n",
       "\t\\hline\n",
       "\t& Float64 & Float64 & Float64 & Float64 & Int64\\\\\n",
       "\t\\hline\n",
       "\t1 & 0.553927 & 0.910058 & 0.234604 & 0.00619983 & 1 \\\\\n",
       "\t2 & 0.509006 & 0.151972 & 0.203505 & 0.899358 & 2 \\\\\n",
       "\t3 & 0.89835 & 0.465239 & 0.647362 & 0.924216 & 3 \\\\\n",
       "\t4 & 0.876952 & 0.0484358 & 0.0293093 & 0.150767 & 4 \\\\\n",
       "\t5 & 0.604521 & 0.224691 & 0.681918 & 0.0195109 & 5 \\\\\n",
       "\\end{tabular}\n"
      ],
      "text/plain": [
       "5×5 DataFrame\n",
       "│ Row │ x1       │ x2        │ x3        │ x4         │ A     │\n",
       "│     │ \u001b[90mFloat64\u001b[39m  │ \u001b[90mFloat64\u001b[39m   │ \u001b[90mFloat64\u001b[39m   │ \u001b[90mFloat64\u001b[39m    │ \u001b[90mInt64\u001b[39m │\n",
       "├─────┼──────────┼───────────┼───────────┼────────────┼───────┤\n",
       "│ 1   │ 0.553927 │ 0.910058  │ 0.234604  │ 0.00619983 │ 1     │\n",
       "│ 2   │ 0.509006 │ 0.151972  │ 0.203505  │ 0.899358   │ 2     │\n",
       "│ 3   │ 0.89835  │ 0.465239  │ 0.647362  │ 0.924216   │ 3     │\n",
       "│ 4   │ 0.876952 │ 0.0484358 │ 0.0293093 │ 0.150767   │ 4     │\n",
       "│ 5   │ 0.604521 │ 0.224691  │ 0.681918  │ 0.0195109  │ 5     │"
      ]
     },
     "execution_count": 75,
     "metadata": {},
     "output_type": "execute_result"
    }
   ],
   "source": [
    "[M1 DataFrame(A=[1,2,3,4,5])]"
   ]
  },
  {
   "cell_type": "code",
   "execution_count": 76,
   "metadata": {},
   "outputs": [
    {
     "data": {
      "text/html": [
       "<table class=\"data-frame\"><thead><tr><th></th><th>x1</th><th>x2</th><th>newcol</th><th>x3</th><th>x4</th></tr><tr><th></th><th>Float64</th><th>Float64</th><th>Int64</th><th>Float64</th><th>Float64</th></tr></thead><tbody><p>5 rows × 5 columns</p><tr><th>1</th><td>0.553927</td><td>0.910058</td><td>1</td><td>0.234604</td><td>0.00619983</td></tr><tr><th>2</th><td>0.509006</td><td>0.151972</td><td>2</td><td>0.203505</td><td>0.899358</td></tr><tr><th>3</th><td>0.89835</td><td>0.465239</td><td>3</td><td>0.647362</td><td>0.924216</td></tr><tr><th>4</th><td>0.876952</td><td>0.0484358</td><td>4</td><td>0.0293093</td><td>0.150767</td></tr><tr><th>5</th><td>0.604521</td><td>0.224691</td><td>5</td><td>0.681918</td><td>0.0195109</td></tr></tbody></table>"
      ],
      "text/latex": [
       "\\begin{tabular}{r|ccccc}\n",
       "\t& x1 & x2 & newcol & x3 & x4\\\\\n",
       "\t\\hline\n",
       "\t& Float64 & Float64 & Int64 & Float64 & Float64\\\\\n",
       "\t\\hline\n",
       "\t1 & 0.553927 & 0.910058 & 1 & 0.234604 & 0.00619983 \\\\\n",
       "\t2 & 0.509006 & 0.151972 & 2 & 0.203505 & 0.899358 \\\\\n",
       "\t3 & 0.89835 & 0.465239 & 3 & 0.647362 & 0.924216 \\\\\n",
       "\t4 & 0.876952 & 0.0484358 & 4 & 0.0293093 & 0.150767 \\\\\n",
       "\t5 & 0.604521 & 0.224691 & 5 & 0.681918 & 0.0195109 \\\\\n",
       "\\end{tabular}\n"
      ],
      "text/plain": [
       "5×5 DataFrame\n",
       "│ Row │ x1       │ x2        │ newcol │ x3        │ x4         │\n",
       "│     │ \u001b[90mFloat64\u001b[39m  │ \u001b[90mFloat64\u001b[39m   │ \u001b[90mInt64\u001b[39m  │ \u001b[90mFloat64\u001b[39m   │ \u001b[90mFloat64\u001b[39m    │\n",
       "├─────┼──────────┼───────────┼────────┼───────────┼────────────┤\n",
       "│ 1   │ 0.553927 │ 0.910058  │ 1      │ 0.234604  │ 0.00619983 │\n",
       "│ 2   │ 0.509006 │ 0.151972  │ 2      │ 0.203505  │ 0.899358   │\n",
       "│ 3   │ 0.89835  │ 0.465239  │ 3      │ 0.647362  │ 0.924216   │\n",
       "│ 4   │ 0.876952 │ 0.0484358 │ 4      │ 0.0293093 │ 0.150767   │\n",
       "│ 5   │ 0.604521 │ 0.224691  │ 5      │ 0.681918  │ 0.0195109  │"
      ]
     },
     "execution_count": 76,
     "metadata": {},
     "output_type": "execute_result"
    }
   ],
   "source": [
    "insertcols!(M1, 3, newcol=[1,2,3,4,5])"
   ]
  },
  {
   "cell_type": "code",
   "execution_count": 77,
   "metadata": {},
   "outputs": [
    {
     "data": {
      "text/html": [
       "<table class=\"data-frame\"><thead><tr><th></th><th>x1</th><th>x2</th><th>newcol</th><th>x3</th><th>x4</th></tr><tr><th></th><th>Float64</th><th>Float64</th><th>Int64</th><th>Float64</th><th>Float64</th></tr></thead><tbody><p>5 rows × 5 columns</p><tr><th>1</th><td>0.553927</td><td>0.910058</td><td>1</td><td>0.234604</td><td>0.00619983</td></tr><tr><th>2</th><td>0.509006</td><td>0.151972</td><td>2</td><td>0.203505</td><td>0.899358</td></tr><tr><th>3</th><td>0.89835</td><td>0.465239</td><td>3</td><td>0.647362</td><td>0.924216</td></tr><tr><th>4</th><td>0.876952</td><td>0.0484358</td><td>4</td><td>0.0293093</td><td>0.150767</td></tr><tr><th>5</th><td>0.604521</td><td>0.224691</td><td>5</td><td>0.681918</td><td>0.0195109</td></tr></tbody></table>"
      ],
      "text/latex": [
       "\\begin{tabular}{r|ccccc}\n",
       "\t& x1 & x2 & newcol & x3 & x4\\\\\n",
       "\t\\hline\n",
       "\t& Float64 & Float64 & Int64 & Float64 & Float64\\\\\n",
       "\t\\hline\n",
       "\t1 & 0.553927 & 0.910058 & 1 & 0.234604 & 0.00619983 \\\\\n",
       "\t2 & 0.509006 & 0.151972 & 2 & 0.203505 & 0.899358 \\\\\n",
       "\t3 & 0.89835 & 0.465239 & 3 & 0.647362 & 0.924216 \\\\\n",
       "\t4 & 0.876952 & 0.0484358 & 4 & 0.0293093 & 0.150767 \\\\\n",
       "\t5 & 0.604521 & 0.224691 & 5 & 0.681918 & 0.0195109 \\\\\n",
       "\\end{tabular}\n"
      ],
      "text/plain": [
       "5×5 DataFrame\n",
       "│ Row │ x1       │ x2        │ newcol │ x3        │ x4         │\n",
       "│     │ \u001b[90mFloat64\u001b[39m  │ \u001b[90mFloat64\u001b[39m   │ \u001b[90mInt64\u001b[39m  │ \u001b[90mFloat64\u001b[39m   │ \u001b[90mFloat64\u001b[39m    │\n",
       "├─────┼──────────┼───────────┼────────┼───────────┼────────────┤\n",
       "│ 1   │ 0.553927 │ 0.910058  │ 1      │ 0.234604  │ 0.00619983 │\n",
       "│ 2   │ 0.509006 │ 0.151972  │ 2      │ 0.203505  │ 0.899358   │\n",
       "│ 3   │ 0.89835  │ 0.465239  │ 3      │ 0.647362  │ 0.924216   │\n",
       "│ 4   │ 0.876952 │ 0.0484358 │ 4      │ 0.0293093 │ 0.150767   │\n",
       "│ 5   │ 0.604521 │ 0.224691  │ 5      │ 0.681918  │ 0.0195109  │"
      ]
     },
     "execution_count": 77,
     "metadata": {},
     "output_type": "execute_result"
    }
   ],
   "source": [
    "M1"
   ]
  },
  {
   "cell_type": "code",
   "execution_count": 78,
   "metadata": {},
   "outputs": [
    {
     "data": {
      "text/html": [
       "<table class=\"data-frame\"><thead><tr><th></th><th>x2</th><th>x3</th></tr><tr><th></th><th>Float64</th><th>Float64</th></tr></thead><tbody><p>5 rows × 2 columns</p><tr><th>1</th><td>0.910058</td><td>0.234604</td></tr><tr><th>2</th><td>0.151972</td><td>0.203505</td></tr><tr><th>3</th><td>0.465239</td><td>0.647362</td></tr><tr><th>4</th><td>0.0484358</td><td>0.0293093</td></tr><tr><th>5</th><td>0.224691</td><td>0.681918</td></tr></tbody></table>"
      ],
      "text/latex": [
       "\\begin{tabular}{r|cc}\n",
       "\t& x2 & x3\\\\\n",
       "\t\\hline\n",
       "\t& Float64 & Float64\\\\\n",
       "\t\\hline\n",
       "\t1 & 0.910058 & 0.234604 \\\\\n",
       "\t2 & 0.151972 & 0.203505 \\\\\n",
       "\t3 & 0.465239 & 0.647362 \\\\\n",
       "\t4 & 0.0484358 & 0.0293093 \\\\\n",
       "\t5 & 0.224691 & 0.681918 \\\\\n",
       "\\end{tabular}\n"
      ],
      "text/plain": [
       "5×2 DataFrame\n",
       "│ Row │ x2        │ x3        │\n",
       "│     │ \u001b[90mFloat64\u001b[39m   │ \u001b[90mFloat64\u001b[39m   │\n",
       "├─────┼───────────┼───────────┤\n",
       "│ 1   │ 0.910058  │ 0.234604  │\n",
       "│ 2   │ 0.151972  │ 0.203505  │\n",
       "│ 3   │ 0.465239  │ 0.647362  │\n",
       "│ 4   │ 0.0484358 │ 0.0293093 │\n",
       "│ 5   │ 0.224691  │ 0.681918  │"
      ]
     },
     "execution_count": 78,
     "metadata": {},
     "output_type": "execute_result"
    }
   ],
   "source": [
    "M1[:, [:x2, :x3]]"
   ]
  },
  {
   "cell_type": "code",
   "execution_count": 79,
   "metadata": {},
   "outputs": [
    {
     "data": {
      "text/html": [
       "<table class=\"data-frame\"><thead><tr><th></th><th>x1</th><th>x2</th><th>newcol</th><th>x3</th><th>x4</th></tr><tr><th></th><th>Float64</th><th>Float64</th><th>Int64</th><th>Float64</th><th>Float64</th></tr></thead><tbody><p>5 rows × 5 columns</p><tr><th>1</th><td>0.553927</td><td>0.910058</td><td>1</td><td>0.234604</td><td>0.00619983</td></tr><tr><th>2</th><td>0.509006</td><td>0.151972</td><td>2</td><td>0.203505</td><td>0.899358</td></tr><tr><th>3</th><td>0.89835</td><td>0.465239</td><td>3</td><td>0.647362</td><td>0.924216</td></tr><tr><th>4</th><td>0.876952</td><td>0.0484358</td><td>4</td><td>0.0293093</td><td>0.150767</td></tr><tr><th>5</th><td>0.604521</td><td>0.224691</td><td>5</td><td>0.681918</td><td>0.0195109</td></tr></tbody></table>"
      ],
      "text/latex": [
       "\\begin{tabular}{r|ccccc}\n",
       "\t& x1 & x2 & newcol & x3 & x4\\\\\n",
       "\t\\hline\n",
       "\t& Float64 & Float64 & Int64 & Float64 & Float64\\\\\n",
       "\t\\hline\n",
       "\t1 & 0.553927 & 0.910058 & 1 & 0.234604 & 0.00619983 \\\\\n",
       "\t2 & 0.509006 & 0.151972 & 2 & 0.203505 & 0.899358 \\\\\n",
       "\t3 & 0.89835 & 0.465239 & 3 & 0.647362 & 0.924216 \\\\\n",
       "\t4 & 0.876952 & 0.0484358 & 4 & 0.0293093 & 0.150767 \\\\\n",
       "\t5 & 0.604521 & 0.224691 & 5 & 0.681918 & 0.0195109 \\\\\n",
       "\\end{tabular}\n"
      ],
      "text/plain": [
       "5×5 DataFrame\n",
       "│ Row │ x1       │ x2        │ newcol │ x3        │ x4         │\n",
       "│     │ \u001b[90mFloat64\u001b[39m  │ \u001b[90mFloat64\u001b[39m   │ \u001b[90mInt64\u001b[39m  │ \u001b[90mFloat64\u001b[39m   │ \u001b[90mFloat64\u001b[39m    │\n",
       "├─────┼──────────┼───────────┼────────┼───────────┼────────────┤\n",
       "│ 1   │ 0.553927 │ 0.910058  │ 1      │ 0.234604  │ 0.00619983 │\n",
       "│ 2   │ 0.509006 │ 0.151972  │ 2      │ 0.203505  │ 0.899358   │\n",
       "│ 3   │ 0.89835  │ 0.465239  │ 3      │ 0.647362  │ 0.924216   │\n",
       "│ 4   │ 0.876952 │ 0.0484358 │ 4      │ 0.0293093 │ 0.150767   │\n",
       "│ 5   │ 0.604521 │ 0.224691  │ 5      │ 0.681918  │ 0.0195109  │"
      ]
     },
     "execution_count": 79,
     "metadata": {},
     "output_type": "execute_result"
    }
   ],
   "source": [
    "cp_M1 = copy(M1)"
   ]
  },
  {
   "cell_type": "code",
   "execution_count": 80,
   "metadata": {},
   "outputs": [
    {
     "data": {
      "text/plain": [
       "true"
      ]
     },
     "execution_count": 80,
     "metadata": {},
     "output_type": "execute_result"
    }
   ],
   "source": [
    "M1 == cp_M1"
   ]
  },
  {
   "cell_type": "code",
   "execution_count": 81,
   "metadata": {},
   "outputs": [
    {
     "data": {
      "text/html": [
       "<table class=\"data-frame\"><thead><tr><th></th><th>x1</th><th>x2</th><th>newcol</th><th>x3</th><th>x4</th></tr><tr><th></th><th>Float64</th><th>Float64</th><th>Int64</th><th>Float64</th><th>Float64</th></tr></thead><tbody><p>5 rows × 5 columns</p><tr><th>1</th><td>0.509006</td><td>0.151972</td><td>2</td><td>0.203505</td><td>0.899358</td></tr><tr><th>2</th><td>0.553927</td><td>0.910058</td><td>1</td><td>0.234604</td><td>0.00619983</td></tr><tr><th>3</th><td>0.604521</td><td>0.224691</td><td>5</td><td>0.681918</td><td>0.0195109</td></tr><tr><th>4</th><td>0.876952</td><td>0.0484358</td><td>4</td><td>0.0293093</td><td>0.150767</td></tr><tr><th>5</th><td>0.89835</td><td>0.465239</td><td>3</td><td>0.647362</td><td>0.924216</td></tr></tbody></table>"
      ],
      "text/latex": [
       "\\begin{tabular}{r|ccccc}\n",
       "\t& x1 & x2 & newcol & x3 & x4\\\\\n",
       "\t\\hline\n",
       "\t& Float64 & Float64 & Int64 & Float64 & Float64\\\\\n",
       "\t\\hline\n",
       "\t1 & 0.509006 & 0.151972 & 2 & 0.203505 & 0.899358 \\\\\n",
       "\t2 & 0.553927 & 0.910058 & 1 & 0.234604 & 0.00619983 \\\\\n",
       "\t3 & 0.604521 & 0.224691 & 5 & 0.681918 & 0.0195109 \\\\\n",
       "\t4 & 0.876952 & 0.0484358 & 4 & 0.0293093 & 0.150767 \\\\\n",
       "\t5 & 0.89835 & 0.465239 & 3 & 0.647362 & 0.924216 \\\\\n",
       "\\end{tabular}\n"
      ],
      "text/plain": [
       "5×5 DataFrame\n",
       "│ Row │ x1       │ x2        │ newcol │ x3        │ x4         │\n",
       "│     │ \u001b[90mFloat64\u001b[39m  │ \u001b[90mFloat64\u001b[39m   │ \u001b[90mInt64\u001b[39m  │ \u001b[90mFloat64\u001b[39m   │ \u001b[90mFloat64\u001b[39m    │\n",
       "├─────┼──────────┼───────────┼────────┼───────────┼────────────┤\n",
       "│ 1   │ 0.509006 │ 0.151972  │ 2      │ 0.203505  │ 0.899358   │\n",
       "│ 2   │ 0.553927 │ 0.910058  │ 1      │ 0.234604  │ 0.00619983 │\n",
       "│ 3   │ 0.604521 │ 0.224691  │ 5      │ 0.681918  │ 0.0195109  │\n",
       "│ 4   │ 0.876952 │ 0.0484358 │ 4      │ 0.0293093 │ 0.150767   │\n",
       "│ 5   │ 0.89835  │ 0.465239  │ 3      │ 0.647362  │ 0.924216   │"
      ]
     },
     "execution_count": 81,
     "metadata": {},
     "output_type": "execute_result"
    }
   ],
   "source": [
    "sort(M1, :x1)"
   ]
  },
  {
   "cell_type": "code",
   "execution_count": 82,
   "metadata": {},
   "outputs": [
    {
     "data": {
      "text/html": [
       "<table class=\"data-frame\"><thead><tr><th></th><th>x1</th><th>x2</th><th>newcol</th><th>x3</th><th>x4</th></tr><tr><th></th><th>Float64</th><th>Float64</th><th>Int64</th><th>Float64</th><th>Float64</th></tr></thead><tbody><p>4 rows × 5 columns</p><tr><th>1</th><td>0.553927</td><td>0.910058</td><td>1</td><td>0.234604</td><td>0.00619983</td></tr><tr><th>2</th><td>0.509006</td><td>0.151972</td><td>2</td><td>0.203505</td><td>0.899358</td></tr><tr><th>3</th><td>0.89835</td><td>0.465239</td><td>3</td><td>0.647362</td><td>0.924216</td></tr><tr><th>4</th><td>0.604521</td><td>0.224691</td><td>5</td><td>0.681918</td><td>0.0195109</td></tr></tbody></table>"
      ],
      "text/latex": [
       "\\begin{tabular}{r|ccccc}\n",
       "\t& x1 & x2 & newcol & x3 & x4\\\\\n",
       "\t\\hline\n",
       "\t& Float64 & Float64 & Int64 & Float64 & Float64\\\\\n",
       "\t\\hline\n",
       "\t1 & 0.553927 & 0.910058 & 1 & 0.234604 & 0.00619983 \\\\\n",
       "\t2 & 0.509006 & 0.151972 & 2 & 0.203505 & 0.899358 \\\\\n",
       "\t3 & 0.89835 & 0.465239 & 3 & 0.647362 & 0.924216 \\\\\n",
       "\t4 & 0.604521 & 0.224691 & 5 & 0.681918 & 0.0195109 \\\\\n",
       "\\end{tabular}\n"
      ],
      "text/plain": [
       "4×5 DataFrame\n",
       "│ Row │ x1       │ x2       │ newcol │ x3       │ x4         │\n",
       "│     │ \u001b[90mFloat64\u001b[39m  │ \u001b[90mFloat64\u001b[39m  │ \u001b[90mInt64\u001b[39m  │ \u001b[90mFloat64\u001b[39m  │ \u001b[90mFloat64\u001b[39m    │\n",
       "├─────┼──────────┼──────────┼────────┼──────────┼────────────┤\n",
       "│ 1   │ 0.553927 │ 0.910058 │ 1      │ 0.234604 │ 0.00619983 │\n",
       "│ 2   │ 0.509006 │ 0.151972 │ 2      │ 0.203505 │ 0.899358   │\n",
       "│ 3   │ 0.89835  │ 0.465239 │ 3      │ 0.647362 │ 0.924216   │\n",
       "│ 4   │ 0.604521 │ 0.224691 │ 5      │ 0.681918 │ 0.0195109  │"
      ]
     },
     "execution_count": 82,
     "metadata": {},
     "output_type": "execute_result"
    }
   ],
   "source": [
    "deleterows!(M1, 4)"
   ]
  },
  {
   "cell_type": "code",
   "execution_count": 84,
   "metadata": {},
   "outputs": [
    {
     "data": {
      "text/html": [
       "<table class=\"data-frame\"><thead><tr><th></th><th>x1</th><th>x2</th><th>newcol</th><th>x3</th><th>x4</th></tr><tr><th></th><th>Float64</th><th>Float64</th><th>Int64</th><th>Float64</th><th>Float64</th></tr></thead><tbody><p>2 rows × 5 columns</p><tr><th>1</th><td>0.89835</td><td>0.465239</td><td>3</td><td>0.647362</td><td>0.924216</td></tr><tr><th>2</th><td>0.604521</td><td>0.224691</td><td>5</td><td>0.681918</td><td>0.0195109</td></tr></tbody></table>"
      ],
      "text/latex": [
       "\\begin{tabular}{r|ccccc}\n",
       "\t& x1 & x2 & newcol & x3 & x4\\\\\n",
       "\t\\hline\n",
       "\t& Float64 & Float64 & Int64 & Float64 & Float64\\\\\n",
       "\t\\hline\n",
       "\t1 & 0.89835 & 0.465239 & 3 & 0.647362 & 0.924216 \\\\\n",
       "\t2 & 0.604521 & 0.224691 & 5 & 0.681918 & 0.0195109 \\\\\n",
       "\\end{tabular}\n"
      ],
      "text/plain": [
       "2×5 DataFrame\n",
       "│ Row │ x1       │ x2       │ newcol │ x3       │ x4        │\n",
       "│     │ \u001b[90mFloat64\u001b[39m  │ \u001b[90mFloat64\u001b[39m  │ \u001b[90mInt64\u001b[39m  │ \u001b[90mFloat64\u001b[39m  │ \u001b[90mFloat64\u001b[39m   │\n",
       "├─────┼──────────┼──────────┼────────┼──────────┼───────────┤\n",
       "│ 1   │ 0.89835  │ 0.465239 │ 3      │ 0.647362 │ 0.924216  │\n",
       "│ 2   │ 0.604521 │ 0.224691 │ 5      │ 0.681918 │ 0.0195109 │"
      ]
     },
     "execution_count": 84,
     "metadata": {},
     "output_type": "execute_result"
    }
   ],
   "source": [
    "filter( r -> r.x1 > 0.6 ,M1)"
   ]
  },
  {
   "cell_type": "code",
   "execution_count": null,
   "metadata": {},
   "outputs": [],
   "source": []
  }
 ],
 "metadata": {
  "kernelspec": {
   "display_name": "Julia 1.3.0",
   "language": "julia",
   "name": "julia-1.3"
  },
  "language_info": {
   "file_extension": ".jl",
   "mimetype": "application/julia",
   "name": "julia",
   "version": "1.3.0"
  }
 },
 "nbformat": 4,
 "nbformat_minor": 2
}
